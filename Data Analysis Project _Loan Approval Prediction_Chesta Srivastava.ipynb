{
 "cells": [
  {
   "cell_type": "markdown",
   "metadata": {
    "id": "MiPuwPL0a7Vk"
   },
   "source": [
    "# Loan Approval Prediction Model                       - Chesta Srivastava(20AG36007)\n",
    "**The loan approval dataset** is a collection of financial records and associated information used to determine the eligibility of individuals or organizations for obtaining loans from a lending institution. It includes various factors such as cibil score, income, employment status, loan term, loan amount, assets value, and loan status. This dataset is commonly used in machine learning and data analysis to develop models and algorithms that predict the likelihood of loan approval based on the given features. We will build & optimize a loan approval prediction system with advanced machine learning techniques, enhancing accuracy & identifying key factors"
   ]
  },
  {
   "cell_type": "markdown",
   "metadata": {},
   "source": [
    "Signature of Professor -\n",
    "\n",
    "\n"
   ]
  },
  {
   "cell_type": "code",
   "execution_count": 3,
   "metadata": {
    "id": "AjX88bhDY9oD"
   },
   "outputs": [],
   "source": [
    "import pandas as pd\n",
    "import numpy as np\n",
    "import seaborn as sns"
   ]
  },
  {
   "cell_type": "code",
   "execution_count": 4,
   "metadata": {
    "id": "EFZeWOFWY9oG"
   },
   "outputs": [],
   "source": [
    "import matplotlib.pyplot as plt\n",
    "%matplotlib inline"
   ]
  },
  {
   "cell_type": "code",
   "execution_count": 5,
   "metadata": {
    "id": "On4pYjrvY9oH"
   },
   "outputs": [],
   "source": [
    "sns.set_theme(style=\"darkgrid\")\n",
    "sns.set(rc={'figure.figsize':(6,8)})"
   ]
  },
  {
   "cell_type": "code",
   "execution_count": 6,
   "metadata": {
    "colab": {
     "base_uri": "https://localhost:8080/",
     "height": 530
    },
    "id": "7wA5HbDvY9oH",
    "outputId": "d8724bf2-c228-4c99-c20f-35adae84b3c4"
   },
   "outputs": [
    {
     "data": {
      "text/html": [
       "<div>\n",
       "<style scoped>\n",
       "    .dataframe tbody tr th:only-of-type {\n",
       "        vertical-align: middle;\n",
       "    }\n",
       "\n",
       "    .dataframe tbody tr th {\n",
       "        vertical-align: top;\n",
       "    }\n",
       "\n",
       "    .dataframe thead th {\n",
       "        text-align: right;\n",
       "    }\n",
       "</style>\n",
       "<table border=\"1\" class=\"dataframe\">\n",
       "  <thead>\n",
       "    <tr style=\"text-align: right;\">\n",
       "      <th></th>\n",
       "      <th>loan_id</th>\n",
       "      <th>no_of_dependents</th>\n",
       "      <th>education</th>\n",
       "      <th>self_employed</th>\n",
       "      <th>income_annum</th>\n",
       "      <th>loan_amount</th>\n",
       "      <th>loan_term</th>\n",
       "      <th>cibil_score</th>\n",
       "      <th>residential_assets_value</th>\n",
       "      <th>commercial_assets_value</th>\n",
       "      <th>luxury_assets_value</th>\n",
       "      <th>bank_asset_value</th>\n",
       "      <th>loan_status</th>\n",
       "    </tr>\n",
       "  </thead>\n",
       "  <tbody>\n",
       "    <tr>\n",
       "      <th>0</th>\n",
       "      <td>1</td>\n",
       "      <td>2</td>\n",
       "      <td>Graduate</td>\n",
       "      <td>No</td>\n",
       "      <td>9600000</td>\n",
       "      <td>29900000</td>\n",
       "      <td>12</td>\n",
       "      <td>778</td>\n",
       "      <td>2400000</td>\n",
       "      <td>17600000</td>\n",
       "      <td>22700000</td>\n",
       "      <td>8000000</td>\n",
       "      <td>Approved</td>\n",
       "    </tr>\n",
       "    <tr>\n",
       "      <th>1</th>\n",
       "      <td>2</td>\n",
       "      <td>0</td>\n",
       "      <td>Not Graduate</td>\n",
       "      <td>Yes</td>\n",
       "      <td>4100000</td>\n",
       "      <td>12200000</td>\n",
       "      <td>8</td>\n",
       "      <td>417</td>\n",
       "      <td>2700000</td>\n",
       "      <td>2200000</td>\n",
       "      <td>8800000</td>\n",
       "      <td>3300000</td>\n",
       "      <td>Rejected</td>\n",
       "    </tr>\n",
       "    <tr>\n",
       "      <th>2</th>\n",
       "      <td>3</td>\n",
       "      <td>3</td>\n",
       "      <td>Graduate</td>\n",
       "      <td>No</td>\n",
       "      <td>9100000</td>\n",
       "      <td>29700000</td>\n",
       "      <td>20</td>\n",
       "      <td>506</td>\n",
       "      <td>7100000</td>\n",
       "      <td>4500000</td>\n",
       "      <td>33300000</td>\n",
       "      <td>12800000</td>\n",
       "      <td>Rejected</td>\n",
       "    </tr>\n",
       "    <tr>\n",
       "      <th>3</th>\n",
       "      <td>4</td>\n",
       "      <td>3</td>\n",
       "      <td>Graduate</td>\n",
       "      <td>No</td>\n",
       "      <td>8200000</td>\n",
       "      <td>30700000</td>\n",
       "      <td>8</td>\n",
       "      <td>467</td>\n",
       "      <td>18200000</td>\n",
       "      <td>3300000</td>\n",
       "      <td>23300000</td>\n",
       "      <td>7900000</td>\n",
       "      <td>Rejected</td>\n",
       "    </tr>\n",
       "    <tr>\n",
       "      <th>4</th>\n",
       "      <td>5</td>\n",
       "      <td>5</td>\n",
       "      <td>Not Graduate</td>\n",
       "      <td>Yes</td>\n",
       "      <td>9800000</td>\n",
       "      <td>24200000</td>\n",
       "      <td>20</td>\n",
       "      <td>382</td>\n",
       "      <td>12400000</td>\n",
       "      <td>8200000</td>\n",
       "      <td>29400000</td>\n",
       "      <td>5000000</td>\n",
       "      <td>Rejected</td>\n",
       "    </tr>\n",
       "    <tr>\n",
       "      <th>...</th>\n",
       "      <td>...</td>\n",
       "      <td>...</td>\n",
       "      <td>...</td>\n",
       "      <td>...</td>\n",
       "      <td>...</td>\n",
       "      <td>...</td>\n",
       "      <td>...</td>\n",
       "      <td>...</td>\n",
       "      <td>...</td>\n",
       "      <td>...</td>\n",
       "      <td>...</td>\n",
       "      <td>...</td>\n",
       "      <td>...</td>\n",
       "    </tr>\n",
       "    <tr>\n",
       "      <th>4264</th>\n",
       "      <td>4265</td>\n",
       "      <td>5</td>\n",
       "      <td>Graduate</td>\n",
       "      <td>Yes</td>\n",
       "      <td>1000000</td>\n",
       "      <td>2300000</td>\n",
       "      <td>12</td>\n",
       "      <td>317</td>\n",
       "      <td>2800000</td>\n",
       "      <td>500000</td>\n",
       "      <td>3300000</td>\n",
       "      <td>800000</td>\n",
       "      <td>Rejected</td>\n",
       "    </tr>\n",
       "    <tr>\n",
       "      <th>4265</th>\n",
       "      <td>4266</td>\n",
       "      <td>0</td>\n",
       "      <td>Not Graduate</td>\n",
       "      <td>Yes</td>\n",
       "      <td>3300000</td>\n",
       "      <td>11300000</td>\n",
       "      <td>20</td>\n",
       "      <td>559</td>\n",
       "      <td>4200000</td>\n",
       "      <td>2900000</td>\n",
       "      <td>11000000</td>\n",
       "      <td>1900000</td>\n",
       "      <td>Approved</td>\n",
       "    </tr>\n",
       "    <tr>\n",
       "      <th>4266</th>\n",
       "      <td>4267</td>\n",
       "      <td>2</td>\n",
       "      <td>Not Graduate</td>\n",
       "      <td>No</td>\n",
       "      <td>6500000</td>\n",
       "      <td>23900000</td>\n",
       "      <td>18</td>\n",
       "      <td>457</td>\n",
       "      <td>1200000</td>\n",
       "      <td>12400000</td>\n",
       "      <td>18100000</td>\n",
       "      <td>7300000</td>\n",
       "      <td>Rejected</td>\n",
       "    </tr>\n",
       "    <tr>\n",
       "      <th>4267</th>\n",
       "      <td>4268</td>\n",
       "      <td>1</td>\n",
       "      <td>Not Graduate</td>\n",
       "      <td>No</td>\n",
       "      <td>4100000</td>\n",
       "      <td>12800000</td>\n",
       "      <td>8</td>\n",
       "      <td>780</td>\n",
       "      <td>8200000</td>\n",
       "      <td>700000</td>\n",
       "      <td>14100000</td>\n",
       "      <td>5800000</td>\n",
       "      <td>Approved</td>\n",
       "    </tr>\n",
       "    <tr>\n",
       "      <th>4268</th>\n",
       "      <td>4269</td>\n",
       "      <td>1</td>\n",
       "      <td>Graduate</td>\n",
       "      <td>No</td>\n",
       "      <td>9200000</td>\n",
       "      <td>29700000</td>\n",
       "      <td>10</td>\n",
       "      <td>607</td>\n",
       "      <td>17800000</td>\n",
       "      <td>11800000</td>\n",
       "      <td>35700000</td>\n",
       "      <td>12000000</td>\n",
       "      <td>Approved</td>\n",
       "    </tr>\n",
       "  </tbody>\n",
       "</table>\n",
       "<p>4269 rows × 13 columns</p>\n",
       "</div>"
      ],
      "text/plain": [
       "      loan_id   no_of_dependents      education  self_employed   income_annum  \\\n",
       "0           1                  2       Graduate             No        9600000   \n",
       "1           2                  0   Not Graduate            Yes        4100000   \n",
       "2           3                  3       Graduate             No        9100000   \n",
       "3           4                  3       Graduate             No        8200000   \n",
       "4           5                  5   Not Graduate            Yes        9800000   \n",
       "...       ...                ...            ...            ...            ...   \n",
       "4264     4265                  5       Graduate            Yes        1000000   \n",
       "4265     4266                  0   Not Graduate            Yes        3300000   \n",
       "4266     4267                  2   Not Graduate             No        6500000   \n",
       "4267     4268                  1   Not Graduate             No        4100000   \n",
       "4268     4269                  1       Graduate             No        9200000   \n",
       "\n",
       "       loan_amount   loan_term   cibil_score   residential_assets_value  \\\n",
       "0         29900000          12           778                    2400000   \n",
       "1         12200000           8           417                    2700000   \n",
       "2         29700000          20           506                    7100000   \n",
       "3         30700000           8           467                   18200000   \n",
       "4         24200000          20           382                   12400000   \n",
       "...            ...         ...           ...                        ...   \n",
       "4264       2300000          12           317                    2800000   \n",
       "4265      11300000          20           559                    4200000   \n",
       "4266      23900000          18           457                    1200000   \n",
       "4267      12800000           8           780                    8200000   \n",
       "4268      29700000          10           607                   17800000   \n",
       "\n",
       "       commercial_assets_value   luxury_assets_value   bank_asset_value  \\\n",
       "0                     17600000              22700000            8000000   \n",
       "1                      2200000               8800000            3300000   \n",
       "2                      4500000              33300000           12800000   \n",
       "3                      3300000              23300000            7900000   \n",
       "4                      8200000              29400000            5000000   \n",
       "...                        ...                   ...                ...   \n",
       "4264                    500000               3300000             800000   \n",
       "4265                   2900000              11000000            1900000   \n",
       "4266                  12400000              18100000            7300000   \n",
       "4267                    700000              14100000            5800000   \n",
       "4268                  11800000              35700000           12000000   \n",
       "\n",
       "      loan_status  \n",
       "0        Approved  \n",
       "1        Rejected  \n",
       "2        Rejected  \n",
       "3        Rejected  \n",
       "4        Rejected  \n",
       "...           ...  \n",
       "4264     Rejected  \n",
       "4265     Approved  \n",
       "4266     Rejected  \n",
       "4267     Approved  \n",
       "4268     Approved  \n",
       "\n",
       "[4269 rows x 13 columns]"
      ]
     },
     "execution_count": 6,
     "metadata": {},
     "output_type": "execute_result"
    }
   ],
   "source": [
    "df = pd.read_csv(\"../music/loan_approval_dataset.csv\")\n",
    "df"
   ]
  },
  {
   "cell_type": "markdown",
   "metadata": {
    "id": "WvwVJozmbT2X"
   },
   "source": [
    "# Data Cleaning"
   ]
  },
  {
   "cell_type": "code",
   "execution_count": 7,
   "metadata": {
    "id": "kiER0QsGY9oJ"
   },
   "outputs": [],
   "source": [
    "df.drop('loan_id', axis = 1 , inplace = True)\n"
   ]
  },
  {
   "cell_type": "code",
   "execution_count": 8,
   "metadata": {
    "colab": {
     "base_uri": "https://localhost:8080/",
     "height": 261
    },
    "id": "yMKRVZ3fY9oJ",
    "outputId": "87361d1c-869c-445e-8684-3420de530c9f"
   },
   "outputs": [
    {
     "data": {
      "text/html": [
       "<div>\n",
       "<style scoped>\n",
       "    .dataframe tbody tr th:only-of-type {\n",
       "        vertical-align: middle;\n",
       "    }\n",
       "\n",
       "    .dataframe tbody tr th {\n",
       "        vertical-align: top;\n",
       "    }\n",
       "\n",
       "    .dataframe thead th {\n",
       "        text-align: right;\n",
       "    }\n",
       "</style>\n",
       "<table border=\"1\" class=\"dataframe\">\n",
       "  <thead>\n",
       "    <tr style=\"text-align: right;\">\n",
       "      <th></th>\n",
       "      <th>no_of_dependents</th>\n",
       "      <th>education</th>\n",
       "      <th>self_employed</th>\n",
       "      <th>income_annum</th>\n",
       "      <th>loan_amount</th>\n",
       "      <th>loan_term</th>\n",
       "      <th>cibil_score</th>\n",
       "      <th>residential_assets_value</th>\n",
       "      <th>commercial_assets_value</th>\n",
       "      <th>luxury_assets_value</th>\n",
       "      <th>bank_asset_value</th>\n",
       "      <th>loan_status</th>\n",
       "    </tr>\n",
       "  </thead>\n",
       "  <tbody>\n",
       "    <tr>\n",
       "      <th>0</th>\n",
       "      <td>2</td>\n",
       "      <td>Graduate</td>\n",
       "      <td>No</td>\n",
       "      <td>9600000</td>\n",
       "      <td>29900000</td>\n",
       "      <td>12</td>\n",
       "      <td>778</td>\n",
       "      <td>2400000</td>\n",
       "      <td>17600000</td>\n",
       "      <td>22700000</td>\n",
       "      <td>8000000</td>\n",
       "      <td>Approved</td>\n",
       "    </tr>\n",
       "    <tr>\n",
       "      <th>1</th>\n",
       "      <td>0</td>\n",
       "      <td>Not Graduate</td>\n",
       "      <td>Yes</td>\n",
       "      <td>4100000</td>\n",
       "      <td>12200000</td>\n",
       "      <td>8</td>\n",
       "      <td>417</td>\n",
       "      <td>2700000</td>\n",
       "      <td>2200000</td>\n",
       "      <td>8800000</td>\n",
       "      <td>3300000</td>\n",
       "      <td>Rejected</td>\n",
       "    </tr>\n",
       "    <tr>\n",
       "      <th>2</th>\n",
       "      <td>3</td>\n",
       "      <td>Graduate</td>\n",
       "      <td>No</td>\n",
       "      <td>9100000</td>\n",
       "      <td>29700000</td>\n",
       "      <td>20</td>\n",
       "      <td>506</td>\n",
       "      <td>7100000</td>\n",
       "      <td>4500000</td>\n",
       "      <td>33300000</td>\n",
       "      <td>12800000</td>\n",
       "      <td>Rejected</td>\n",
       "    </tr>\n",
       "    <tr>\n",
       "      <th>3</th>\n",
       "      <td>3</td>\n",
       "      <td>Graduate</td>\n",
       "      <td>No</td>\n",
       "      <td>8200000</td>\n",
       "      <td>30700000</td>\n",
       "      <td>8</td>\n",
       "      <td>467</td>\n",
       "      <td>18200000</td>\n",
       "      <td>3300000</td>\n",
       "      <td>23300000</td>\n",
       "      <td>7900000</td>\n",
       "      <td>Rejected</td>\n",
       "    </tr>\n",
       "    <tr>\n",
       "      <th>4</th>\n",
       "      <td>5</td>\n",
       "      <td>Not Graduate</td>\n",
       "      <td>Yes</td>\n",
       "      <td>9800000</td>\n",
       "      <td>24200000</td>\n",
       "      <td>20</td>\n",
       "      <td>382</td>\n",
       "      <td>12400000</td>\n",
       "      <td>8200000</td>\n",
       "      <td>29400000</td>\n",
       "      <td>5000000</td>\n",
       "      <td>Rejected</td>\n",
       "    </tr>\n",
       "  </tbody>\n",
       "</table>\n",
       "</div>"
      ],
      "text/plain": [
       "    no_of_dependents      education  self_employed   income_annum  \\\n",
       "0                  2       Graduate             No        9600000   \n",
       "1                  0   Not Graduate            Yes        4100000   \n",
       "2                  3       Graduate             No        9100000   \n",
       "3                  3       Graduate             No        8200000   \n",
       "4                  5   Not Graduate            Yes        9800000   \n",
       "\n",
       "    loan_amount   loan_term   cibil_score   residential_assets_value  \\\n",
       "0      29900000          12           778                    2400000   \n",
       "1      12200000           8           417                    2700000   \n",
       "2      29700000          20           506                    7100000   \n",
       "3      30700000           8           467                   18200000   \n",
       "4      24200000          20           382                   12400000   \n",
       "\n",
       "    commercial_assets_value   luxury_assets_value   bank_asset_value  \\\n",
       "0                  17600000              22700000            8000000   \n",
       "1                   2200000               8800000            3300000   \n",
       "2                   4500000              33300000           12800000   \n",
       "3                   3300000              23300000            7900000   \n",
       "4                   8200000              29400000            5000000   \n",
       "\n",
       "   loan_status  \n",
       "0     Approved  \n",
       "1     Rejected  \n",
       "2     Rejected  \n",
       "3     Rejected  \n",
       "4     Rejected  "
      ]
     },
     "execution_count": 8,
     "metadata": {},
     "output_type": "execute_result"
    }
   ],
   "source": [
    "df.head()"
   ]
  },
  {
   "cell_type": "code",
   "execution_count": 9,
   "metadata": {
    "colab": {
     "base_uri": "https://localhost:8080/"
    },
    "id": "XBrfjICmY9oJ",
    "outputId": "a7d3ec60-d175-4ca4-f596-c13b9335f2a3"
   },
   "outputs": [
    {
     "name": "stdout",
     "output_type": "stream",
     "text": [
      "<class 'pandas.core.frame.DataFrame'>\n",
      "RangeIndex: 4269 entries, 0 to 4268\n",
      "Data columns (total 12 columns):\n",
      " #   Column                     Non-Null Count  Dtype \n",
      "---  ------                     --------------  ----- \n",
      " 0    no_of_dependents          4269 non-null   int64 \n",
      " 1    education                 4269 non-null   object\n",
      " 2    self_employed             4269 non-null   object\n",
      " 3    income_annum              4269 non-null   int64 \n",
      " 4    loan_amount               4269 non-null   int64 \n",
      " 5    loan_term                 4269 non-null   int64 \n",
      " 6    cibil_score               4269 non-null   int64 \n",
      " 7    residential_assets_value  4269 non-null   int64 \n",
      " 8    commercial_assets_value   4269 non-null   int64 \n",
      " 9    luxury_assets_value       4269 non-null   int64 \n",
      " 10   bank_asset_value          4269 non-null   int64 \n",
      " 11   loan_status               4269 non-null   object\n",
      "dtypes: int64(9), object(3)\n",
      "memory usage: 400.3+ KB\n"
     ]
    }
   ],
   "source": [
    "df.info()"
   ]
  },
  {
   "cell_type": "code",
   "execution_count": 10,
   "metadata": {
    "colab": {
     "base_uri": "https://localhost:8080/"
    },
    "id": "0kWodGRzcIGd",
    "outputId": "269eacc0-3883-47ea-f000-ff88653ee481"
   },
   "outputs": [
    {
     "data": {
      "text/plain": [
       "Index([' no_of_dependents', ' education', ' self_employed', ' income_annum',\n",
       "       ' loan_amount', ' loan_term', ' cibil_score',\n",
       "       ' residential_assets_value', ' commercial_assets_value',\n",
       "       ' luxury_assets_value', ' bank_asset_value', ' loan_status'],\n",
       "      dtype='object')"
      ]
     },
     "execution_count": 10,
     "metadata": {},
     "output_type": "execute_result"
    }
   ],
   "source": [
    "df.columns"
   ]
  },
  {
   "cell_type": "code",
   "execution_count": 11,
   "metadata": {
    "id": "XOXvGwQTcPBx"
   },
   "outputs": [],
   "source": [
    "df.columns = df.columns.str.replace(' ' , '')"
   ]
  },
  {
   "cell_type": "code",
   "execution_count": 12,
   "metadata": {
    "colab": {
     "base_uri": "https://localhost:8080/"
    },
    "id": "Gu2Fc2lnc9WH",
    "outputId": "08ce2aae-01d0-42ad-c3bc-d45c6d9cb555"
   },
   "outputs": [
    {
     "data": {
      "text/plain": [
       "Index(['no_of_dependents', 'education', 'self_employed', 'income_annum',\n",
       "       'loan_amount', 'loan_term', 'cibil_score', 'residential_assets_value',\n",
       "       'commercial_assets_value', 'luxury_assets_value', 'bank_asset_value',\n",
       "       'loan_status'],\n",
       "      dtype='object')"
      ]
     },
     "execution_count": 12,
     "metadata": {},
     "output_type": "execute_result"
    }
   ],
   "source": [
    "df.columns"
   ]
  },
  {
   "cell_type": "code",
   "execution_count": 13,
   "metadata": {
    "id": "1RwqbjLAex7P"
   },
   "outputs": [],
   "source": [
    "cat_cols = ['no_of_dependents', 'education', 'self_employed', 'loan_status']"
   ]
  },
  {
   "cell_type": "code",
   "execution_count": 14,
   "metadata": {
    "colab": {
     "base_uri": "https://localhost:8080/"
    },
    "id": "RPZ3MVKtY9oK",
    "outputId": "d177b07f-2fd3-40df-f75a-21a89333da75"
   },
   "outputs": [
    {
     "name": "stdout",
     "output_type": "stream",
     "text": [
      "4    752\n",
      "3    727\n",
      "0    712\n",
      "2    708\n",
      "1    697\n",
      "5    673\n",
      "Name: no_of_dependents, dtype: int64\n",
      "--------------------\n",
      " Graduate        2144\n",
      " Not Graduate    2125\n",
      "Name: education, dtype: int64\n",
      "--------------------\n",
      " Yes    2150\n",
      " No     2119\n",
      "Name: self_employed, dtype: int64\n",
      "--------------------\n",
      " Approved    2656\n",
      " Rejected    1613\n",
      "Name: loan_status, dtype: int64\n",
      "--------------------\n"
     ]
    }
   ],
   "source": [
    "for col in cat_cols:\n",
    "    print( df[col].value_counts())\n",
    "    print(\"-\" * 20)"
   ]
  },
  {
   "cell_type": "code",
   "execution_count": 15,
   "metadata": {
    "colab": {
     "base_uri": "https://localhost:8080/",
     "height": 178
    },
    "id": "X0CrEJkrY9oL",
    "outputId": "1c37a0b0-00a6-4ec4-8b4d-9d89a80214cb"
   },
   "outputs": [
    {
     "data": {
      "text/plain": [
       " Approved    0.62216\n",
       " Rejected    0.37784\n",
       "Name: loan_status, dtype: float64"
      ]
     },
     "execution_count": 15,
     "metadata": {},
     "output_type": "execute_result"
    }
   ],
   "source": [
    "df['loan_status'].value_counts(normalize=True)"
   ]
  },
  {
   "cell_type": "markdown",
   "metadata": {
    "id": "tUU_DnIrhCUd"
   },
   "source": [
    "**Notice: Imbalanced Dataset Lables**"
   ]
  },
  {
   "cell_type": "code",
   "execution_count": 16,
   "metadata": {
    "colab": {
     "base_uri": "https://localhost:8080/",
     "height": 460
    },
    "id": "rxBav5s3lvYM",
    "outputId": "5337cbba-4b03-4a7e-cbf3-d5fe49ce77c9"
   },
   "outputs": [
    {
     "data": {
      "text/plain": [
       "no_of_dependents            0\n",
       "education                   0\n",
       "self_employed               0\n",
       "income_annum                0\n",
       "loan_amount                 0\n",
       "loan_term                   0\n",
       "cibil_score                 0\n",
       "residential_assets_value    0\n",
       "commercial_assets_value     0\n",
       "luxury_assets_value         0\n",
       "bank_asset_value            0\n",
       "loan_status                 0\n",
       "dtype: int64"
      ]
     },
     "execution_count": 16,
     "metadata": {},
     "output_type": "execute_result"
    }
   ],
   "source": [
    "df.isnull().sum()"
   ]
  },
  {
   "cell_type": "code",
   "execution_count": 17,
   "metadata": {
    "colab": {
     "base_uri": "https://localhost:8080/"
    },
    "id": "pVybUQwNlzZy",
    "outputId": "70e9f281-5590-4787-c1eb-2ec4d7b9983a"
   },
   "outputs": [
    {
     "data": {
      "text/plain": [
       "0"
      ]
     },
     "execution_count": 17,
     "metadata": {},
     "output_type": "execute_result"
    }
   ],
   "source": [
    "df.duplicated().sum()"
   ]
  },
  {
   "cell_type": "markdown",
   "metadata": {
    "id": "zjfMbGRdY9oL"
   },
   "source": [
    "## Feature Analysis"
   ]
  },
  {
   "cell_type": "code",
   "execution_count": 18,
   "metadata": {
    "colab": {
     "base_uri": "https://localhost:8080/",
     "height": 320
    },
    "id": "TyuIw5931ZY4",
    "outputId": "bd8c05db-532a-4742-bf44-0fde1aab6a50"
   },
   "outputs": [
    {
     "data": {
      "text/html": [
       "<div>\n",
       "<style scoped>\n",
       "    .dataframe tbody tr th:only-of-type {\n",
       "        vertical-align: middle;\n",
       "    }\n",
       "\n",
       "    .dataframe tbody tr th {\n",
       "        vertical-align: top;\n",
       "    }\n",
       "\n",
       "    .dataframe thead th {\n",
       "        text-align: right;\n",
       "    }\n",
       "</style>\n",
       "<table border=\"1\" class=\"dataframe\">\n",
       "  <thead>\n",
       "    <tr style=\"text-align: right;\">\n",
       "      <th></th>\n",
       "      <th>no_of_dependents</th>\n",
       "      <th>income_annum</th>\n",
       "      <th>loan_amount</th>\n",
       "      <th>loan_term</th>\n",
       "      <th>cibil_score</th>\n",
       "      <th>residential_assets_value</th>\n",
       "      <th>commercial_assets_value</th>\n",
       "      <th>luxury_assets_value</th>\n",
       "      <th>bank_asset_value</th>\n",
       "    </tr>\n",
       "  </thead>\n",
       "  <tbody>\n",
       "    <tr>\n",
       "      <th>count</th>\n",
       "      <td>4269.000000</td>\n",
       "      <td>4.269000e+03</td>\n",
       "      <td>4.269000e+03</td>\n",
       "      <td>4269.000000</td>\n",
       "      <td>4269.000000</td>\n",
       "      <td>4.269000e+03</td>\n",
       "      <td>4.269000e+03</td>\n",
       "      <td>4.269000e+03</td>\n",
       "      <td>4.269000e+03</td>\n",
       "    </tr>\n",
       "    <tr>\n",
       "      <th>mean</th>\n",
       "      <td>2.498712</td>\n",
       "      <td>5.059124e+06</td>\n",
       "      <td>1.513345e+07</td>\n",
       "      <td>10.900445</td>\n",
       "      <td>599.936051</td>\n",
       "      <td>7.472617e+06</td>\n",
       "      <td>4.973155e+06</td>\n",
       "      <td>1.512631e+07</td>\n",
       "      <td>4.976692e+06</td>\n",
       "    </tr>\n",
       "    <tr>\n",
       "      <th>std</th>\n",
       "      <td>1.695910</td>\n",
       "      <td>2.806840e+06</td>\n",
       "      <td>9.043363e+06</td>\n",
       "      <td>5.709187</td>\n",
       "      <td>172.430401</td>\n",
       "      <td>6.503637e+06</td>\n",
       "      <td>4.388966e+06</td>\n",
       "      <td>9.103754e+06</td>\n",
       "      <td>3.250185e+06</td>\n",
       "    </tr>\n",
       "    <tr>\n",
       "      <th>min</th>\n",
       "      <td>0.000000</td>\n",
       "      <td>2.000000e+05</td>\n",
       "      <td>3.000000e+05</td>\n",
       "      <td>2.000000</td>\n",
       "      <td>300.000000</td>\n",
       "      <td>-1.000000e+05</td>\n",
       "      <td>0.000000e+00</td>\n",
       "      <td>3.000000e+05</td>\n",
       "      <td>0.000000e+00</td>\n",
       "    </tr>\n",
       "    <tr>\n",
       "      <th>25%</th>\n",
       "      <td>1.000000</td>\n",
       "      <td>2.700000e+06</td>\n",
       "      <td>7.700000e+06</td>\n",
       "      <td>6.000000</td>\n",
       "      <td>453.000000</td>\n",
       "      <td>2.200000e+06</td>\n",
       "      <td>1.300000e+06</td>\n",
       "      <td>7.500000e+06</td>\n",
       "      <td>2.300000e+06</td>\n",
       "    </tr>\n",
       "    <tr>\n",
       "      <th>50%</th>\n",
       "      <td>3.000000</td>\n",
       "      <td>5.100000e+06</td>\n",
       "      <td>1.450000e+07</td>\n",
       "      <td>10.000000</td>\n",
       "      <td>600.000000</td>\n",
       "      <td>5.600000e+06</td>\n",
       "      <td>3.700000e+06</td>\n",
       "      <td>1.460000e+07</td>\n",
       "      <td>4.600000e+06</td>\n",
       "    </tr>\n",
       "    <tr>\n",
       "      <th>75%</th>\n",
       "      <td>4.000000</td>\n",
       "      <td>7.500000e+06</td>\n",
       "      <td>2.150000e+07</td>\n",
       "      <td>16.000000</td>\n",
       "      <td>748.000000</td>\n",
       "      <td>1.130000e+07</td>\n",
       "      <td>7.600000e+06</td>\n",
       "      <td>2.170000e+07</td>\n",
       "      <td>7.100000e+06</td>\n",
       "    </tr>\n",
       "    <tr>\n",
       "      <th>max</th>\n",
       "      <td>5.000000</td>\n",
       "      <td>9.900000e+06</td>\n",
       "      <td>3.950000e+07</td>\n",
       "      <td>20.000000</td>\n",
       "      <td>900.000000</td>\n",
       "      <td>2.910000e+07</td>\n",
       "      <td>1.940000e+07</td>\n",
       "      <td>3.920000e+07</td>\n",
       "      <td>1.470000e+07</td>\n",
       "    </tr>\n",
       "  </tbody>\n",
       "</table>\n",
       "</div>"
      ],
      "text/plain": [
       "       no_of_dependents  income_annum   loan_amount    loan_term  cibil_score  \\\n",
       "count       4269.000000  4.269000e+03  4.269000e+03  4269.000000  4269.000000   \n",
       "mean           2.498712  5.059124e+06  1.513345e+07    10.900445   599.936051   \n",
       "std            1.695910  2.806840e+06  9.043363e+06     5.709187   172.430401   \n",
       "min            0.000000  2.000000e+05  3.000000e+05     2.000000   300.000000   \n",
       "25%            1.000000  2.700000e+06  7.700000e+06     6.000000   453.000000   \n",
       "50%            3.000000  5.100000e+06  1.450000e+07    10.000000   600.000000   \n",
       "75%            4.000000  7.500000e+06  2.150000e+07    16.000000   748.000000   \n",
       "max            5.000000  9.900000e+06  3.950000e+07    20.000000   900.000000   \n",
       "\n",
       "       residential_assets_value  commercial_assets_value  luxury_assets_value  \\\n",
       "count              4.269000e+03             4.269000e+03         4.269000e+03   \n",
       "mean               7.472617e+06             4.973155e+06         1.512631e+07   \n",
       "std                6.503637e+06             4.388966e+06         9.103754e+06   \n",
       "min               -1.000000e+05             0.000000e+00         3.000000e+05   \n",
       "25%                2.200000e+06             1.300000e+06         7.500000e+06   \n",
       "50%                5.600000e+06             3.700000e+06         1.460000e+07   \n",
       "75%                1.130000e+07             7.600000e+06         2.170000e+07   \n",
       "max                2.910000e+07             1.940000e+07         3.920000e+07   \n",
       "\n",
       "       bank_asset_value  \n",
       "count      4.269000e+03  \n",
       "mean       4.976692e+06  \n",
       "std        3.250185e+06  \n",
       "min        0.000000e+00  \n",
       "25%        2.300000e+06  \n",
       "50%        4.600000e+06  \n",
       "75%        7.100000e+06  \n",
       "max        1.470000e+07  "
      ]
     },
     "execution_count": 18,
     "metadata": {},
     "output_type": "execute_result"
    }
   ],
   "source": [
    "df.describe(include=\"number\")"
   ]
  },
  {
   "cell_type": "code",
   "execution_count": 19,
   "metadata": {
    "colab": {
     "base_uri": "https://localhost:8080/",
     "height": 247
    },
    "id": "yZnb146f18la",
    "outputId": "df1f616b-90d8-4c55-958b-f7abc696350b"
   },
   "outputs": [
    {
     "data": {
      "text/html": [
       "<div>\n",
       "<style scoped>\n",
       "    .dataframe tbody tr th:only-of-type {\n",
       "        vertical-align: middle;\n",
       "    }\n",
       "\n",
       "    .dataframe tbody tr th {\n",
       "        vertical-align: top;\n",
       "    }\n",
       "\n",
       "    .dataframe thead th {\n",
       "        text-align: right;\n",
       "    }\n",
       "</style>\n",
       "<table border=\"1\" class=\"dataframe\">\n",
       "  <thead>\n",
       "    <tr style=\"text-align: right;\">\n",
       "      <th></th>\n",
       "      <th>no_of_dependents</th>\n",
       "      <th>education</th>\n",
       "      <th>self_employed</th>\n",
       "      <th>income_annum</th>\n",
       "      <th>loan_amount</th>\n",
       "      <th>loan_term</th>\n",
       "      <th>cibil_score</th>\n",
       "      <th>residential_assets_value</th>\n",
       "      <th>commercial_assets_value</th>\n",
       "      <th>luxury_assets_value</th>\n",
       "      <th>bank_asset_value</th>\n",
       "      <th>loan_status</th>\n",
       "    </tr>\n",
       "  </thead>\n",
       "  <tbody>\n",
       "    <tr>\n",
       "      <th>1272</th>\n",
       "      <td>5</td>\n",
       "      <td>Not Graduate</td>\n",
       "      <td>No</td>\n",
       "      <td>9900000</td>\n",
       "      <td>35800000</td>\n",
       "      <td>20</td>\n",
       "      <td>470</td>\n",
       "      <td>9500000</td>\n",
       "      <td>18400000</td>\n",
       "      <td>39100000</td>\n",
       "      <td>14700000</td>\n",
       "      <td>Rejected</td>\n",
       "    </tr>\n",
       "    <tr>\n",
       "      <th>1633</th>\n",
       "      <td>0</td>\n",
       "      <td>Graduate</td>\n",
       "      <td>Yes</td>\n",
       "      <td>9800000</td>\n",
       "      <td>23200000</td>\n",
       "      <td>10</td>\n",
       "      <td>573</td>\n",
       "      <td>23900000</td>\n",
       "      <td>3300000</td>\n",
       "      <td>23600000</td>\n",
       "      <td>14600000</td>\n",
       "      <td>Approved</td>\n",
       "    </tr>\n",
       "    <tr>\n",
       "      <th>1674</th>\n",
       "      <td>1</td>\n",
       "      <td>Not Graduate</td>\n",
       "      <td>No</td>\n",
       "      <td>9800000</td>\n",
       "      <td>21300000</td>\n",
       "      <td>2</td>\n",
       "      <td>356</td>\n",
       "      <td>23000000</td>\n",
       "      <td>12300000</td>\n",
       "      <td>25700000</td>\n",
       "      <td>14600000</td>\n",
       "      <td>Rejected</td>\n",
       "    </tr>\n",
       "    <tr>\n",
       "      <th>1805</th>\n",
       "      <td>5</td>\n",
       "      <td>Not Graduate</td>\n",
       "      <td>No</td>\n",
       "      <td>9900000</td>\n",
       "      <td>33600000</td>\n",
       "      <td>20</td>\n",
       "      <td>580</td>\n",
       "      <td>7000000</td>\n",
       "      <td>10800000</td>\n",
       "      <td>37400000</td>\n",
       "      <td>14700000</td>\n",
       "      <td>Approved</td>\n",
       "    </tr>\n",
       "  </tbody>\n",
       "</table>\n",
       "</div>"
      ],
      "text/plain": [
       "      no_of_dependents      education self_employed  income_annum  \\\n",
       "1272                 5   Not Graduate            No       9900000   \n",
       "1633                 0       Graduate           Yes       9800000   \n",
       "1674                 1   Not Graduate            No       9800000   \n",
       "1805                 5   Not Graduate            No       9900000   \n",
       "\n",
       "      loan_amount  loan_term  cibil_score  residential_assets_value  \\\n",
       "1272     35800000         20          470                   9500000   \n",
       "1633     23200000         10          573                  23900000   \n",
       "1674     21300000          2          356                  23000000   \n",
       "1805     33600000         20          580                   7000000   \n",
       "\n",
       "      commercial_assets_value  luxury_assets_value  bank_asset_value  \\\n",
       "1272                 18400000             39100000          14700000   \n",
       "1633                  3300000             23600000          14600000   \n",
       "1674                 12300000             25700000          14600000   \n",
       "1805                 10800000             37400000          14700000   \n",
       "\n",
       "     loan_status  \n",
       "1272    Rejected  \n",
       "1633    Approved  \n",
       "1674    Rejected  \n",
       "1805    Approved  "
      ]
     },
     "execution_count": 19,
     "metadata": {},
     "output_type": "execute_result"
    }
   ],
   "source": [
    "df[df.bank_asset_value > 14500000]"
   ]
  },
  {
   "cell_type": "code",
   "execution_count": 20,
   "metadata": {
    "colab": {
     "base_uri": "https://localhost:8080/",
     "height": 351
    },
    "id": "ip4iIWVklV7E",
    "outputId": "f28b8785-f060-4d40-f831-36ff6ccccbbe"
   },
   "outputs": [
    {
     "name": "stdout",
     "output_type": "stream",
     "text": [
      "                          no_of_dependents  income_annum  loan_amount  \\\n",
      "no_of_dependents                  1.000000      0.007266    -0.003366   \n",
      "income_annum                      0.007266      1.000000     0.927470   \n",
      "loan_amount                      -0.003366      0.927470     1.000000   \n",
      "loan_term                        -0.020111      0.011488     0.008437   \n",
      "cibil_score                      -0.009998     -0.023034    -0.017035   \n",
      "residential_assets_value          0.007376      0.636841     0.594596   \n",
      "commercial_assets_value          -0.001531      0.640328     0.603188   \n",
      "luxury_assets_value               0.002817      0.929145     0.860914   \n",
      "bank_asset_value                  0.011163      0.851093     0.788122   \n",
      "\n",
      "                          loan_term  cibil_score  residential_assets_value  \\\n",
      "no_of_dependents          -0.020111    -0.009998                  0.007376   \n",
      "income_annum               0.011488    -0.023034                  0.636841   \n",
      "loan_amount                0.008437    -0.017035                  0.594596   \n",
      "loan_term                  1.000000     0.007810                  0.008016   \n",
      "cibil_score                0.007810     1.000000                 -0.019947   \n",
      "residential_assets_value   0.008016    -0.019947                  1.000000   \n",
      "commercial_assets_value   -0.005478    -0.003769                  0.414786   \n",
      "luxury_assets_value        0.012490    -0.028618                  0.590932   \n",
      "bank_asset_value           0.017177    -0.015478                  0.527418   \n",
      "\n",
      "                          commercial_assets_value  luxury_assets_value  \\\n",
      "no_of_dependents                        -0.001531             0.002817   \n",
      "income_annum                             0.640328             0.929145   \n",
      "loan_amount                              0.603188             0.860914   \n",
      "loan_term                               -0.005478             0.012490   \n",
      "cibil_score                             -0.003769            -0.028618   \n",
      "residential_assets_value                 0.414786             0.590932   \n",
      "commercial_assets_value                  1.000000             0.591128   \n",
      "luxury_assets_value                      0.591128             1.000000   \n",
      "bank_asset_value                         0.548576             0.788517   \n",
      "\n",
      "                          bank_asset_value  \n",
      "no_of_dependents                  0.011163  \n",
      "income_annum                      0.851093  \n",
      "loan_amount                       0.788122  \n",
      "loan_term                         0.017177  \n",
      "cibil_score                      -0.015478  \n",
      "residential_assets_value          0.527418  \n",
      "commercial_assets_value           0.548576  \n",
      "luxury_assets_value               0.788517  \n",
      "bank_asset_value                  1.000000  \n"
     ]
    }
   ],
   "source": [
    "# Select only numeric columns\n",
    "numerical_df = df.select_dtypes(include=np.number)\n",
    "\n",
    "# Calculate the correlation matrix\n",
    "correlation_matrix = numerical_df.corr()\n",
    "\n",
    "# Display the correlation matrix\n",
    "print(correlation_matrix)\n"
   ]
  },
  {
   "cell_type": "markdown",
   "metadata": {
    "id": "30LcoSjanuDO"
   },
   "source": [
    "### Loan Status, Loan Amount, Annual Income"
   ]
  },
  {
   "cell_type": "code",
   "execution_count": 21,
   "metadata": {
    "colab": {
     "base_uri": "https://localhost:8080/",
     "height": 881
    },
    "id": "GYCHMq2umY7c",
    "outputId": "747d2b53-2d66-41ae-9513-0a19a41045dd"
   },
   "outputs": [
    {
     "data": {
      "image/png": "[encoded data removed]",
      "text/plain": [
       "<Figure size 432x576 with 1 Axes>"
      ]
     },
     "metadata": {},
     "output_type": "display_data"
    }
   ],
   "source": [
    "sns.scatterplot(x=df['income_annum'], y= df['loan_amount'], hue=df['loan_status'])\n",
    "plt.title(\"Loan Status, Loan Amount, Annual Income\")\n",
    "plt.xlabel(\"Annual Income\")\n",
    "plt.ylabel(\"Loan Amount\")\n",
    "plt.show()"
   ]
  },
  {
   "cell_type": "markdown",
   "metadata": {
    "id": "yDAcyplVmznR"
   },
   "source": [
    "**There is a positive correlation between annual income and loan amount.** However, this relationship does not appear to influence loan approval status significantly.\n",
    "\n",
    "Applicants with lower incomes tend to request **smaller** loan amounts with less variability, while those with **higher** incomes seek a wider range of loan values. This pattern is likely due to lenders' risk assessment practices, which often **correlate** loan amounts with income to ensure repayment capacity. Consequently, higher-income applicants may have more flexibility in loan amounts.\n",
    "\n",
    "Interestingly, the dataset shows that while some high-income applicants with large loan requests are approved (upper right quadrant), others with lower loan requests are rejected (middle right quadrant). This suggests that factors beyond income and loan amount, such as **credit score, employment history, or lender policies, influence approval decisions**. A more in-depth analysis using code can provide further insights into these variables."
   ]
  },
  {
   "cell_type": "markdown",
   "metadata": {
    "id": "FCzn0zhroEDh"
   },
   "source": [
    "### Loan Status, Loan Amount, luxury_assets_value"
   ]
  },
  {
   "cell_type": "code",
   "execution_count": 22,
   "metadata": {
    "colab": {
     "base_uri": "https://localhost:8080/",
     "height": 881
    },
    "id": "E48zrvtYnqlm",
    "outputId": "5ec4b1bf-5370-42b2-fd86-b24cda00fe2e"
   },
   "outputs": [
    {
     "data": {
      "image/png": "[encoded data removed]",
      "text/plain": [
       "<Figure size 432x576 with 1 Axes>"
      ]
     },
     "metadata": {},
     "output_type": "display_data"
    }
   ],
   "source": [
    "sns.scatterplot(x=df['luxury_assets_value'], y= df['loan_amount'], hue=df['loan_status'])\n",
    "plt.title(\"Loan Status, Loan Amount, luxury_assets_value\")\n",
    "plt.xlabel(\"luxury_assets_value\")\n",
    "plt.ylabel(\"Loan Amount\")\n",
    "plt.show()"
   ]
  },
  {
   "cell_type": "markdown",
   "metadata": {
    "id": "mKVKryblol_p"
   },
   "source": [
    "It seems that the middle area of luxury assets value share same loan amounts with the high luxuray assets value. This tells us that the luxuray assets share the effects with the other features on the loan approval decision"
   ]
  },
  {
   "cell_type": "code",
   "execution_count": 23,
   "metadata": {
    "colab": {
     "base_uri": "https://localhost:8080/",
     "height": 518
    },
    "id": "zNGaFt4tY9oS",
    "outputId": "e2a49406-53b0-4d5f-ce10-fa724929df46"
   },
   "outputs": [
    {
     "data": {
      "text/plain": [
       "<seaborn.axisgrid.FacetGrid at 0x29cf87bc0d0>"
      ]
     },
     "execution_count": 23,
     "metadata": {},
     "output_type": "execute_result"
    },
    {
     "data": {
      "image/png": "[encoded data removed]",
      "text/plain": [
       "<Figure size 449.225x360 with 1 Axes>"
      ]
     },
     "metadata": {},
     "output_type": "display_data"
    }
   ],
   "source": [
    "sns.displot(data = df , x =\"income_annum\",hue='loan_status')"
   ]
  },
  {
   "cell_type": "code",
   "execution_count": 24,
   "metadata": {
    "colab": {
     "base_uri": "https://localhost:8080/",
     "height": 518
    },
    "id": "sSBk5pnaY9oS",
    "outputId": "be999437-4ef2-44a3-dd41-24e74268bbdb"
   },
   "outputs": [
    {
     "data": {
      "text/plain": [
       "<seaborn.axisgrid.FacetGrid at 0x29cf8953070>"
      ]
     },
     "execution_count": 24,
     "metadata": {},
     "output_type": "execute_result"
    },
    {
     "data": {
      "image/png": "[encoded data removed]",
      "text/plain": [
       "<Figure size 449.225x360 with 1 Axes>"
      ]
     },
     "metadata": {},
     "output_type": "display_data"
    }
   ],
   "source": [
    "sns.displot(data = df , x =\"loan_amount\",hue='loan_status')"
   ]
  },
  {
   "cell_type": "code",
   "execution_count": 25,
   "metadata": {
    "colab": {
     "base_uri": "https://localhost:8080/",
     "height": 518
    },
    "id": "M5X3h77AkmW7",
    "outputId": "77b45203-7181-4463-9745-b85510305c8b"
   },
   "outputs": [
    {
     "data": {
      "text/plain": [
       "<seaborn.axisgrid.FacetGrid at 0x29cfaca27f0>"
      ]
     },
     "execution_count": 25,
     "metadata": {},
     "output_type": "execute_result"
    },
    {
     "data": {
      "image/png": "[encoded data removed]",
      "text/plain": [
       "<Figure size 449.225x360 with 1 Axes>"
      ]
     },
     "metadata": {},
     "output_type": "display_data"
    }
   ],
   "source": [
    "sns.displot(data = df , x =\"loan_term\",hue='loan_status')"
   ]
  },
  {
   "cell_type": "markdown",
   "metadata": {
    "id": "ydxz8D98pMtu"
   },
   "source": [
    "***Note the short loan terms are more approved than long terms ***"
   ]
  },
  {
   "cell_type": "markdown",
   "metadata": {
    "id": "6bMadDVsY9oS"
   },
   "source": [
    "### Outliers"
   ]
  },
  {
   "cell_type": "code",
   "execution_count": 26,
   "metadata": {
    "id": "LTXgnjwar4to"
   },
   "outputs": [],
   "source": [
    "from scipy import stats"
   ]
  },
  {
   "cell_type": "code",
   "execution_count": 27,
   "metadata": {
    "id": "7Cbch9hlr-xa"
   },
   "outputs": [],
   "source": [
    "\n",
    "def detect_outliers_iqr(df, columns):\n",
    "  Q1 = df[columns].quantile(0.25)\n",
    "  Q3 = df[columns].quantile(0.75)\n",
    "  IQR = Q3 - Q1\n",
    "  lower_bound = Q1 - 1.5 * IQR\n",
    "  upper_bound = Q3 + 1.5 * IQR\n",
    "  outliers = df[(df[columns] < lower_bound) | (df[columns] > upper_bound)].any(axis=1)\n",
    "  return outliers"
   ]
  },
  {
   "cell_type": "code",
   "execution_count": 28,
   "metadata": {
    "colab": {
     "base_uri": "https://localhost:8080/"
    },
    "id": "pwymZd6rrewv",
    "outputId": "c0581341-9c9b-4fee-96db-f8911c202229"
   },
   "outputs": [
    {
     "name": "stdout",
     "output_type": "stream",
     "text": [
      "Outliers using IQR:\n",
      " 57\n"
     ]
    }
   ],
   "source": [
    "# Detect outliers using IQR\n",
    "outliers_iqr = detect_outliers_iqr(df, ['loan_term','income_annum','residential_assets_value','luxury_assets_value','bank_asset_value'])\n",
    "print(\"Outliers using IQR:\\n\", outliers_iqr.sum())\n"
   ]
  },
  {
   "cell_type": "markdown",
   "metadata": {
    "id": "TJf-nS-PzgYR"
   },
   "source": [
    "# Data Pre-Processing"
   ]
  },
  {
   "cell_type": "code",
   "execution_count": 29,
   "metadata": {
    "colab": {
     "base_uri": "https://localhost:8080/",
     "height": 335
    },
    "id": "xsBMCan023JO",
    "outputId": "9415f49f-26c4-4be7-fb1a-bdb2e2d757b3"
   },
   "outputs": [
    {
     "data": {
      "text/plain": [
       "count    4269.000000\n",
       "mean       10.900445\n",
       "std         5.709187\n",
       "min         2.000000\n",
       "25%         6.000000\n",
       "50%        10.000000\n",
       "75%        16.000000\n",
       "max        20.000000\n",
       "Name: loan_term, dtype: float64"
      ]
     },
     "execution_count": 29,
     "metadata": {},
     "output_type": "execute_result"
    }
   ],
   "source": [
    "df.loan_term.describe()"
   ]
  },
  {
   "cell_type": "code",
   "execution_count": 30,
   "metadata": {
    "id": "crpVuGZc2nYN"
   },
   "outputs": [],
   "source": [
    "df.loan_term = df.loan_term * 365"
   ]
  },
  {
   "cell_type": "code",
   "execution_count": 31,
   "metadata": {
    "colab": {
     "base_uri": "https://localhost:8080/",
     "height": 335
    },
    "id": "FiwzAk2I29MN",
    "outputId": "0a9a9dd5-40da-475b-d229-3f06f0827d0f"
   },
   "outputs": [
    {
     "data": {
      "text/plain": [
       "count    4269.000000\n",
       "mean     3978.662450\n",
       "std      2083.853357\n",
       "min       730.000000\n",
       "25%      2190.000000\n",
       "50%      3650.000000\n",
       "75%      5840.000000\n",
       "max      7300.000000\n",
       "Name: loan_term, dtype: float64"
      ]
     },
     "execution_count": 31,
     "metadata": {},
     "output_type": "execute_result"
    }
   ],
   "source": [
    "df.loan_term.describe()"
   ]
  },
  {
   "cell_type": "code",
   "execution_count": 32,
   "metadata": {
    "colab": {
     "base_uri": "https://localhost:8080/"
    },
    "id": "uhaZJAcU3DXl",
    "outputId": "afb78007-d8f9-4b8d-e3a4-33689383cae8"
   },
   "outputs": [
    {
     "data": {
      "text/plain": [
       "Index(['no_of_dependents', 'education', 'self_employed', 'income_annum',\n",
       "       'loan_amount', 'loan_term', 'cibil_score', 'residential_assets_value',\n",
       "       'commercial_assets_value', 'luxury_assets_value', 'bank_asset_value',\n",
       "       'loan_status'],\n",
       "      dtype='object')"
      ]
     },
     "execution_count": 32,
     "metadata": {},
     "output_type": "execute_result"
    }
   ],
   "source": [
    "df.columns"
   ]
  },
  {
   "cell_type": "code",
   "execution_count": 33,
   "metadata": {
    "id": "V5QXb5NBzxUA"
   },
   "outputs": [],
   "source": [
    "categorical_features = ['education', 'self_employed', 'loan_status']"
   ]
  },
  {
   "cell_type": "code",
   "execution_count": 34,
   "metadata": {
    "id": "K63oGq4O6VP2"
   },
   "outputs": [],
   "source": [
    "cat_df = df[categorical_features]"
   ]
  },
  {
   "cell_type": "code",
   "execution_count": 35,
   "metadata": {
    "id": "7JuL4RNczxXC"
   },
   "outputs": [],
   "source": [
    "from sklearn.preprocessing import LabelEncoder, OneHotEncoder, RobustScaler\n"
   ]
  },
  {
   "cell_type": "markdown",
   "metadata": {
    "id": "73eePIy60rV7"
   },
   "source": [
    "## Encoding"
   ]
  },
  {
   "cell_type": "code",
   "execution_count": 41,
   "metadata": {
    "colab": {
     "base_uri": "https://localhost:8080/",
     "height": 423
    },
    "id": "1c3lwdMO5PMj",
    "outputId": "a0a088fe-92eb-49c1-f677-22fbf4cdb844"
   },
   "outputs": [
    {
     "data": {
      "text/html": [
       "<div>\n",
       "<style scoped>\n",
       "    .dataframe tbody tr th:only-of-type {\n",
       "        vertical-align: middle;\n",
       "    }\n",
       "\n",
       "    .dataframe tbody tr th {\n",
       "        vertical-align: top;\n",
       "    }\n",
       "\n",
       "    .dataframe thead th {\n",
       "        text-align: right;\n",
       "    }\n",
       "</style>\n",
       "<table border=\"1\" class=\"dataframe\">\n",
       "  <thead>\n",
       "    <tr style=\"text-align: right;\">\n",
       "      <th></th>\n",
       "      <th>education_ Graduate</th>\n",
       "      <th>education_ Not Graduate</th>\n",
       "      <th>self_employed_ No</th>\n",
       "      <th>self_employed_ Yes</th>\n",
       "      <th>loan_status_ Approved</th>\n",
       "      <th>loan_status_ Rejected</th>\n",
       "    </tr>\n",
       "  </thead>\n",
       "  <tbody>\n",
       "    <tr>\n",
       "      <th>0</th>\n",
       "      <td>1.0</td>\n",
       "      <td>0.0</td>\n",
       "      <td>1.0</td>\n",
       "      <td>0.0</td>\n",
       "      <td>1.0</td>\n",
       "      <td>0.0</td>\n",
       "    </tr>\n",
       "    <tr>\n",
       "      <th>1</th>\n",
       "      <td>0.0</td>\n",
       "      <td>1.0</td>\n",
       "      <td>0.0</td>\n",
       "      <td>1.0</td>\n",
       "      <td>0.0</td>\n",
       "      <td>1.0</td>\n",
       "    </tr>\n",
       "    <tr>\n",
       "      <th>2</th>\n",
       "      <td>1.0</td>\n",
       "      <td>0.0</td>\n",
       "      <td>1.0</td>\n",
       "      <td>0.0</td>\n",
       "      <td>0.0</td>\n",
       "      <td>1.0</td>\n",
       "    </tr>\n",
       "    <tr>\n",
       "      <th>3</th>\n",
       "      <td>1.0</td>\n",
       "      <td>0.0</td>\n",
       "      <td>1.0</td>\n",
       "      <td>0.0</td>\n",
       "      <td>0.0</td>\n",
       "      <td>1.0</td>\n",
       "    </tr>\n",
       "    <tr>\n",
       "      <th>4</th>\n",
       "      <td>0.0</td>\n",
       "      <td>1.0</td>\n",
       "      <td>0.0</td>\n",
       "      <td>1.0</td>\n",
       "      <td>0.0</td>\n",
       "      <td>1.0</td>\n",
       "    </tr>\n",
       "    <tr>\n",
       "      <th>...</th>\n",
       "      <td>...</td>\n",
       "      <td>...</td>\n",
       "      <td>...</td>\n",
       "      <td>...</td>\n",
       "      <td>...</td>\n",
       "      <td>...</td>\n",
       "    </tr>\n",
       "    <tr>\n",
       "      <th>4264</th>\n",
       "      <td>1.0</td>\n",
       "      <td>0.0</td>\n",
       "      <td>0.0</td>\n",
       "      <td>1.0</td>\n",
       "      <td>0.0</td>\n",
       "      <td>1.0</td>\n",
       "    </tr>\n",
       "    <tr>\n",
       "      <th>4265</th>\n",
       "      <td>0.0</td>\n",
       "      <td>1.0</td>\n",
       "      <td>0.0</td>\n",
       "      <td>1.0</td>\n",
       "      <td>1.0</td>\n",
       "      <td>0.0</td>\n",
       "    </tr>\n",
       "    <tr>\n",
       "      <th>4266</th>\n",
       "      <td>0.0</td>\n",
       "      <td>1.0</td>\n",
       "      <td>1.0</td>\n",
       "      <td>0.0</td>\n",
       "      <td>0.0</td>\n",
       "      <td>1.0</td>\n",
       "    </tr>\n",
       "    <tr>\n",
       "      <th>4267</th>\n",
       "      <td>0.0</td>\n",
       "      <td>1.0</td>\n",
       "      <td>1.0</td>\n",
       "      <td>0.0</td>\n",
       "      <td>1.0</td>\n",
       "      <td>0.0</td>\n",
       "    </tr>\n",
       "    <tr>\n",
       "      <th>4268</th>\n",
       "      <td>1.0</td>\n",
       "      <td>0.0</td>\n",
       "      <td>1.0</td>\n",
       "      <td>0.0</td>\n",
       "      <td>1.0</td>\n",
       "      <td>0.0</td>\n",
       "    </tr>\n",
       "  </tbody>\n",
       "</table>\n",
       "<p>4269 rows × 6 columns</p>\n",
       "</div>"
      ],
      "text/plain": [
       "      education_ Graduate  education_ Not Graduate  self_employed_ No  \\\n",
       "0                     1.0                      0.0                1.0   \n",
       "1                     0.0                      1.0                0.0   \n",
       "2                     1.0                      0.0                1.0   \n",
       "3                     1.0                      0.0                1.0   \n",
       "4                     0.0                      1.0                0.0   \n",
       "...                   ...                      ...                ...   \n",
       "4264                  1.0                      0.0                0.0   \n",
       "4265                  0.0                      1.0                0.0   \n",
       "4266                  0.0                      1.0                1.0   \n",
       "4267                  0.0                      1.0                1.0   \n",
       "4268                  1.0                      0.0                1.0   \n",
       "\n",
       "      self_employed_ Yes  loan_status_ Approved  loan_status_ Rejected  \n",
       "0                    0.0                    1.0                    0.0  \n",
       "1                    1.0                    0.0                    1.0  \n",
       "2                    0.0                    0.0                    1.0  \n",
       "3                    0.0                    0.0                    1.0  \n",
       "4                    1.0                    0.0                    1.0  \n",
       "...                  ...                    ...                    ...  \n",
       "4264                 1.0                    0.0                    1.0  \n",
       "4265                 1.0                    1.0                    0.0  \n",
       "4266                 0.0                    0.0                    1.0  \n",
       "4267                 0.0                    1.0                    0.0  \n",
       "4268                 0.0                    1.0                    0.0  \n",
       "\n",
       "[4269 rows x 6 columns]"
      ]
     },
     "execution_count": 41,
     "metadata": {},
     "output_type": "execute_result"
    }
   ],
   "source": [
    "from sklearn.preprocessing import OneHotEncoder\n",
    "\n",
    "def encode_features(df, categorical_features):\n",
    "    # One-hot encoding for nominal features\n",
    "    encoder = OneHotEncoder(sparse=False)\n",
    "    encoded_data = encoder.fit_transform(df)\n",
    "    encoded_df = pd.DataFrame(encoded_data, columns=encoder.get_feature_names(categorical_features))\n",
    "    return encoded_df\n",
    "\n",
    "encoded_df = encode_features(cat_df, categorical_features)\n",
    "encoded_df\n"
   ]
  },
  {
   "cell_type": "code",
   "execution_count": 42,
   "metadata": {
    "colab": {
     "base_uri": "https://localhost:8080/"
    },
    "id": "C82pIjCeQm2f",
    "outputId": "ccadf6b3-0dce-421d-eb3a-f912e479face"
   },
   "outputs": [
    {
     "data": {
      "text/plain": [
       "Index(['education_ Graduate', 'education_ Not Graduate', 'self_employed_ No',\n",
       "       'self_employed_ Yes', 'loan_status_ Approved', 'loan_status_ Rejected'],\n",
       "      dtype='object')"
      ]
     },
     "execution_count": 42,
     "metadata": {},
     "output_type": "execute_result"
    }
   ],
   "source": [
    "encoded_df.columns"
   ]
  },
  {
   "cell_type": "code",
   "execution_count": 43,
   "metadata": {
    "id": "VZckAf0yQpHG"
   },
   "outputs": [],
   "source": [
    "encoded_df = encoded_df[['education_ Graduate', 'self_employed_ Yes', 'loan_status_ Approved' ]]"
   ]
  },
  {
   "cell_type": "code",
   "execution_count": 45,
   "metadata": {
    "id": "3p8i7WY5Qrhg"
   },
   "outputs": [
    {
     "name": "stdout",
     "output_type": "stream",
     "text": [
      "Index(['education_ Graduate', 'education_ Not Graduate', 'self_employed_ No',\n",
      "       'self_employed_ Yes', 'loan_status_ Approved', 'loan_status_ Rejected'],\n",
      "      dtype='object')\n"
     ]
    }
   ],
   "source": [
    "# Assuming this is the correct method from your previous code\n",
    "encoded_df = encode_features(cat_df, categorical_features)\n",
    "\n",
    "# Check the columns of encoded_df to ensure they match what you're trying to assign\n",
    "print(encoded_df.columns)\n",
    "\n",
    "# Assign encoded columns back to the original DataFrame\n",
    "df_encode = df.copy()  # It's better to use .copy() to avoid modifying the original df directly\n",
    "df_encode[['education', 'self_employed', 'loan_status']] = encoded_df[['education_ Graduate', 'self_employed_ Yes', 'loan_status_ Approved']]\n"
   ]
  },
  {
   "cell_type": "code",
   "execution_count": 46,
   "metadata": {
    "colab": {
     "base_uri": "https://localhost:8080/",
     "height": 460
    },
    "id": "2TwJt-mY83xm",
    "outputId": "8cdea64c-7412-46bf-ac27-2b29309939f4"
   },
   "outputs": [
    {
     "data": {
      "text/plain": [
       "no_of_dependents            0\n",
       "education                   0\n",
       "self_employed               0\n",
       "income_annum                0\n",
       "loan_amount                 0\n",
       "loan_term                   0\n",
       "cibil_score                 0\n",
       "residential_assets_value    0\n",
       "commercial_assets_value     0\n",
       "luxury_assets_value         0\n",
       "bank_asset_value            0\n",
       "loan_status                 0\n",
       "dtype: int64"
      ]
     },
     "execution_count": 46,
     "metadata": {},
     "output_type": "execute_result"
    }
   ],
   "source": [
    "df_encode.isnull().sum()"
   ]
  },
  {
   "cell_type": "code",
   "execution_count": 47,
   "metadata": {
    "id": "wZjUelDCRiV7"
   },
   "outputs": [],
   "source": [
    "from sklearn.model_selection import train_test_split\n",
    "x = df_encode.drop('loan_status', axis=1)\n",
    "y = df_encode['loan_status']\n",
    "x_train, x_test, y_train, y_test = train_test_split(x, y, test_size=0.2, random_state=79, stratify=y)"
   ]
  },
  {
   "cell_type": "code",
   "execution_count": 48,
   "metadata": {
    "id": "9CNkl5Ad8Upx"
   },
   "outputs": [],
   "source": [
    "numerical_features = ['income_annum', 'loan_amount', 'loan_term', 'cibil_score','residential_assets_value', 'commercial_assets_value', 'bank_asset_value', 'luxury_assets_value']\n",
    "xtrain_num = x_train[numerical_features]\n",
    "xtest_num = x_test[numerical_features]"
   ]
  },
  {
   "cell_type": "code",
   "execution_count": 49,
   "metadata": {
    "colab": {
     "base_uri": "https://localhost:8080/",
     "height": 443
    },
    "id": "XFvS11TaizeY",
    "outputId": "92aa3b9b-3457-4567-8603-cefa4bc375cc"
   },
   "outputs": [
    {
     "data": {
      "text/html": [
       "<div>\n",
       "<style scoped>\n",
       "    .dataframe tbody tr th:only-of-type {\n",
       "        vertical-align: middle;\n",
       "    }\n",
       "\n",
       "    .dataframe tbody tr th {\n",
       "        vertical-align: top;\n",
       "    }\n",
       "\n",
       "    .dataframe thead th {\n",
       "        text-align: right;\n",
       "    }\n",
       "</style>\n",
       "<table border=\"1\" class=\"dataframe\">\n",
       "  <thead>\n",
       "    <tr style=\"text-align: right;\">\n",
       "      <th></th>\n",
       "      <th>income_annum</th>\n",
       "      <th>loan_amount</th>\n",
       "      <th>loan_term</th>\n",
       "      <th>cibil_score</th>\n",
       "      <th>residential_assets_value</th>\n",
       "      <th>commercial_assets_value</th>\n",
       "      <th>bank_asset_value</th>\n",
       "      <th>luxury_assets_value</th>\n",
       "    </tr>\n",
       "  </thead>\n",
       "  <tbody>\n",
       "    <tr>\n",
       "      <th>451</th>\n",
       "      <td>500000</td>\n",
       "      <td>900000</td>\n",
       "      <td>6570</td>\n",
       "      <td>618</td>\n",
       "      <td>1400000</td>\n",
       "      <td>600000</td>\n",
       "      <td>400000</td>\n",
       "      <td>1200000</td>\n",
       "    </tr>\n",
       "    <tr>\n",
       "      <th>1464</th>\n",
       "      <td>4400000</td>\n",
       "      <td>17300000</td>\n",
       "      <td>7300</td>\n",
       "      <td>840</td>\n",
       "      <td>3600000</td>\n",
       "      <td>5100000</td>\n",
       "      <td>2300000</td>\n",
       "      <td>12900000</td>\n",
       "    </tr>\n",
       "    <tr>\n",
       "      <th>2699</th>\n",
       "      <td>5500000</td>\n",
       "      <td>14800000</td>\n",
       "      <td>3650</td>\n",
       "      <td>354</td>\n",
       "      <td>16000000</td>\n",
       "      <td>3400000</td>\n",
       "      <td>7700000</td>\n",
       "      <td>21200000</td>\n",
       "    </tr>\n",
       "    <tr>\n",
       "      <th>462</th>\n",
       "      <td>4400000</td>\n",
       "      <td>14700000</td>\n",
       "      <td>5840</td>\n",
       "      <td>638</td>\n",
       "      <td>4000000</td>\n",
       "      <td>2700000</td>\n",
       "      <td>2700000</td>\n",
       "      <td>14400000</td>\n",
       "    </tr>\n",
       "    <tr>\n",
       "      <th>1348</th>\n",
       "      <td>9400000</td>\n",
       "      <td>20000000</td>\n",
       "      <td>1460</td>\n",
       "      <td>350</td>\n",
       "      <td>3300000</td>\n",
       "      <td>1400000</td>\n",
       "      <td>4700000</td>\n",
       "      <td>37200000</td>\n",
       "    </tr>\n",
       "    <tr>\n",
       "      <th>...</th>\n",
       "      <td>...</td>\n",
       "      <td>...</td>\n",
       "      <td>...</td>\n",
       "      <td>...</td>\n",
       "      <td>...</td>\n",
       "      <td>...</td>\n",
       "      <td>...</td>\n",
       "      <td>...</td>\n",
       "    </tr>\n",
       "    <tr>\n",
       "      <th>1412</th>\n",
       "      <td>6900000</td>\n",
       "      <td>21400000</td>\n",
       "      <td>3650</td>\n",
       "      <td>577</td>\n",
       "      <td>12500000</td>\n",
       "      <td>2200000</td>\n",
       "      <td>6300000</td>\n",
       "      <td>14900000</td>\n",
       "    </tr>\n",
       "    <tr>\n",
       "      <th>256</th>\n",
       "      <td>9800000</td>\n",
       "      <td>35400000</td>\n",
       "      <td>2190</td>\n",
       "      <td>869</td>\n",
       "      <td>14400000</td>\n",
       "      <td>16400000</td>\n",
       "      <td>10300000</td>\n",
       "      <td>22800000</td>\n",
       "    </tr>\n",
       "    <tr>\n",
       "      <th>4133</th>\n",
       "      <td>3000000</td>\n",
       "      <td>8800000</td>\n",
       "      <td>5110</td>\n",
       "      <td>402</td>\n",
       "      <td>5600000</td>\n",
       "      <td>5300000</td>\n",
       "      <td>4200000</td>\n",
       "      <td>8600000</td>\n",
       "    </tr>\n",
       "    <tr>\n",
       "      <th>1424</th>\n",
       "      <td>8500000</td>\n",
       "      <td>25400000</td>\n",
       "      <td>1460</td>\n",
       "      <td>336</td>\n",
       "      <td>8500000</td>\n",
       "      <td>1200000</td>\n",
       "      <td>9000000</td>\n",
       "      <td>30600000</td>\n",
       "    </tr>\n",
       "    <tr>\n",
       "      <th>3701</th>\n",
       "      <td>9600000</td>\n",
       "      <td>29900000</td>\n",
       "      <td>6570</td>\n",
       "      <td>478</td>\n",
       "      <td>18500000</td>\n",
       "      <td>15200000</td>\n",
       "      <td>9400000</td>\n",
       "      <td>38200000</td>\n",
       "    </tr>\n",
       "  </tbody>\n",
       "</table>\n",
       "<p>3415 rows × 8 columns</p>\n",
       "</div>"
      ],
      "text/plain": [
       "      income_annum  loan_amount  loan_term  cibil_score  \\\n",
       "451         500000       900000       6570          618   \n",
       "1464       4400000     17300000       7300          840   \n",
       "2699       5500000     14800000       3650          354   \n",
       "462        4400000     14700000       5840          638   \n",
       "1348       9400000     20000000       1460          350   \n",
       "...            ...          ...        ...          ...   \n",
       "1412       6900000     21400000       3650          577   \n",
       "256        9800000     35400000       2190          869   \n",
       "4133       3000000      8800000       5110          402   \n",
       "1424       8500000     25400000       1460          336   \n",
       "3701       9600000     29900000       6570          478   \n",
       "\n",
       "      residential_assets_value  commercial_assets_value  bank_asset_value  \\\n",
       "451                    1400000                   600000            400000   \n",
       "1464                   3600000                  5100000           2300000   \n",
       "2699                  16000000                  3400000           7700000   \n",
       "462                    4000000                  2700000           2700000   \n",
       "1348                   3300000                  1400000           4700000   \n",
       "...                        ...                      ...               ...   \n",
       "1412                  12500000                  2200000           6300000   \n",
       "256                   14400000                 16400000          10300000   \n",
       "4133                   5600000                  5300000           4200000   \n",
       "1424                   8500000                  1200000           9000000   \n",
       "3701                  18500000                 15200000           9400000   \n",
       "\n",
       "      luxury_assets_value  \n",
       "451               1200000  \n",
       "1464             12900000  \n",
       "2699             21200000  \n",
       "462              14400000  \n",
       "1348             37200000  \n",
       "...                   ...  \n",
       "1412             14900000  \n",
       "256              22800000  \n",
       "4133              8600000  \n",
       "1424             30600000  \n",
       "3701             38200000  \n",
       "\n",
       "[3415 rows x 8 columns]"
      ]
     },
     "execution_count": 49,
     "metadata": {},
     "output_type": "execute_result"
    }
   ],
   "source": [
    "xtrain_num"
   ]
  },
  {
   "cell_type": "markdown",
   "metadata": {
    "id": "rN_Oe-mf0xMa"
   },
   "source": [
    "## Scaling Data"
   ]
  },
  {
   "cell_type": "markdown",
   "metadata": {
    "id": "TdrbMTPlIReK"
   },
   "source": [
    "# **Model Selection**"
   ]
  },
  {
   "cell_type": "code",
   "execution_count": 52,
   "metadata": {
    "id": "eYkGRhUD8CbY"
   },
   "outputs": [],
   "source": [
    "import joblib\n",
    "scaler = RobustScaler(quantile_range=(20, 80))\n",
    "scaler.fit(xtrain_num)\n",
    "train_feats_scaled = pd.DataFrame(scaler.transform(xtrain_num),columns=xtrain_num.columns)\n",
    "test_feats_scaled = pd.DataFrame(scaler.transform(xtest_num),columns=xtest_num.columns)"
   ]
  },
  {
   "cell_type": "code",
   "execution_count": 53,
   "metadata": {
    "colab": {
     "base_uri": "https://localhost:8080/"
    },
    "id": "b_o2NNQd1CoH",
    "outputId": "5a82e179-cf4e-4e63-927b-76553b239f77"
   },
   "outputs": [
    {
     "data": {
      "text/plain": [
       "['scaler.pkl']"
      ]
     },
     "execution_count": 53,
     "metadata": {},
     "output_type": "execute_result"
    }
   ],
   "source": [
    "joblib.dump(scaler, 'scaler.pkl')"
   ]
  },
  {
   "cell_type": "code",
   "execution_count": 54,
   "metadata": {
    "colab": {
     "base_uri": "https://localhost:8080/",
     "height": 443
    },
    "id": "Dn0Gj-DZiNLn",
    "outputId": "c45f3854-c4d9-45d0-a400-024dee96eae9"
   },
   "outputs": [
    {
     "data": {
      "text/html": [
       "<div>\n",
       "<style scoped>\n",
       "    .dataframe tbody tr th:only-of-type {\n",
       "        vertical-align: middle;\n",
       "    }\n",
       "\n",
       "    .dataframe tbody tr th {\n",
       "        vertical-align: top;\n",
       "    }\n",
       "\n",
       "    .dataframe thead th {\n",
       "        text-align: right;\n",
       "    }\n",
       "</style>\n",
       "<table border=\"1\" class=\"dataframe\">\n",
       "  <thead>\n",
       "    <tr style=\"text-align: right;\">\n",
       "      <th></th>\n",
       "      <th>income_annum</th>\n",
       "      <th>loan_amount</th>\n",
       "      <th>loan_term</th>\n",
       "      <th>cibil_score</th>\n",
       "      <th>residential_assets_value</th>\n",
       "      <th>commercial_assets_value</th>\n",
       "      <th>bank_asset_value</th>\n",
       "      <th>luxury_assets_value</th>\n",
       "    </tr>\n",
       "  </thead>\n",
       "  <tbody>\n",
       "    <tr>\n",
       "      <th>0</th>\n",
       "      <td>-0.790378</td>\n",
       "      <td>-0.805134</td>\n",
       "      <td>0.666667</td>\n",
       "      <td>0.053672</td>\n",
       "      <td>-0.368421</td>\n",
       "      <td>-0.397436</td>\n",
       "      <td>-0.709459</td>\n",
       "      <td>-0.779446</td>\n",
       "    </tr>\n",
       "    <tr>\n",
       "      <th>1</th>\n",
       "      <td>-0.120275</td>\n",
       "      <td>0.151692</td>\n",
       "      <td>0.833333</td>\n",
       "      <td>0.680791</td>\n",
       "      <td>-0.175439</td>\n",
       "      <td>0.179487</td>\n",
       "      <td>-0.388514</td>\n",
       "      <td>-0.103926</td>\n",
       "    </tr>\n",
       "    <tr>\n",
       "      <th>2</th>\n",
       "      <td>0.068729</td>\n",
       "      <td>0.005834</td>\n",
       "      <td>0.000000</td>\n",
       "      <td>-0.692090</td>\n",
       "      <td>0.912281</td>\n",
       "      <td>-0.038462</td>\n",
       "      <td>0.523649</td>\n",
       "      <td>0.375289</td>\n",
       "    </tr>\n",
       "    <tr>\n",
       "      <th>3</th>\n",
       "      <td>-0.120275</td>\n",
       "      <td>0.000000</td>\n",
       "      <td>0.500000</td>\n",
       "      <td>0.110169</td>\n",
       "      <td>-0.140351</td>\n",
       "      <td>-0.128205</td>\n",
       "      <td>-0.320946</td>\n",
       "      <td>-0.017321</td>\n",
       "    </tr>\n",
       "    <tr>\n",
       "      <th>4</th>\n",
       "      <td>0.738832</td>\n",
       "      <td>0.309218</td>\n",
       "      <td>-0.500000</td>\n",
       "      <td>-0.703390</td>\n",
       "      <td>-0.201754</td>\n",
       "      <td>-0.294872</td>\n",
       "      <td>0.016892</td>\n",
       "      <td>1.299076</td>\n",
       "    </tr>\n",
       "    <tr>\n",
       "      <th>...</th>\n",
       "      <td>...</td>\n",
       "      <td>...</td>\n",
       "      <td>...</td>\n",
       "      <td>...</td>\n",
       "      <td>...</td>\n",
       "      <td>...</td>\n",
       "      <td>...</td>\n",
       "      <td>...</td>\n",
       "    </tr>\n",
       "    <tr>\n",
       "      <th>3410</th>\n",
       "      <td>0.309278</td>\n",
       "      <td>0.390898</td>\n",
       "      <td>0.000000</td>\n",
       "      <td>-0.062147</td>\n",
       "      <td>0.605263</td>\n",
       "      <td>-0.192308</td>\n",
       "      <td>0.287162</td>\n",
       "      <td>0.011547</td>\n",
       "    </tr>\n",
       "    <tr>\n",
       "      <th>3411</th>\n",
       "      <td>0.807560</td>\n",
       "      <td>1.207701</td>\n",
       "      <td>-0.333333</td>\n",
       "      <td>0.762712</td>\n",
       "      <td>0.771930</td>\n",
       "      <td>1.628205</td>\n",
       "      <td>0.962838</td>\n",
       "      <td>0.467667</td>\n",
       "    </tr>\n",
       "    <tr>\n",
       "      <th>3412</th>\n",
       "      <td>-0.360825</td>\n",
       "      <td>-0.344224</td>\n",
       "      <td>0.333333</td>\n",
       "      <td>-0.556497</td>\n",
       "      <td>0.000000</td>\n",
       "      <td>0.205128</td>\n",
       "      <td>-0.067568</td>\n",
       "      <td>-0.352194</td>\n",
       "    </tr>\n",
       "    <tr>\n",
       "      <th>3413</th>\n",
       "      <td>0.584192</td>\n",
       "      <td>0.624271</td>\n",
       "      <td>-0.500000</td>\n",
       "      <td>-0.742938</td>\n",
       "      <td>0.254386</td>\n",
       "      <td>-0.320513</td>\n",
       "      <td>0.743243</td>\n",
       "      <td>0.918014</td>\n",
       "    </tr>\n",
       "    <tr>\n",
       "      <th>3414</th>\n",
       "      <td>0.773196</td>\n",
       "      <td>0.886814</td>\n",
       "      <td>0.666667</td>\n",
       "      <td>-0.341808</td>\n",
       "      <td>1.131579</td>\n",
       "      <td>1.474359</td>\n",
       "      <td>0.810811</td>\n",
       "      <td>1.356813</td>\n",
       "    </tr>\n",
       "  </tbody>\n",
       "</table>\n",
       "<p>3415 rows × 8 columns</p>\n",
       "</div>"
      ],
      "text/plain": [
       "      income_annum  loan_amount  loan_term  cibil_score  \\\n",
       "0        -0.790378    -0.805134   0.666667     0.053672   \n",
       "1        -0.120275     0.151692   0.833333     0.680791   \n",
       "2         0.068729     0.005834   0.000000    -0.692090   \n",
       "3        -0.120275     0.000000   0.500000     0.110169   \n",
       "4         0.738832     0.309218  -0.500000    -0.703390   \n",
       "...            ...          ...        ...          ...   \n",
       "3410      0.309278     0.390898   0.000000    -0.062147   \n",
       "3411      0.807560     1.207701  -0.333333     0.762712   \n",
       "3412     -0.360825    -0.344224   0.333333    -0.556497   \n",
       "3413      0.584192     0.624271  -0.500000    -0.742938   \n",
       "3414      0.773196     0.886814   0.666667    -0.341808   \n",
       "\n",
       "      residential_assets_value  commercial_assets_value  bank_asset_value  \\\n",
       "0                    -0.368421                -0.397436         -0.709459   \n",
       "1                    -0.175439                 0.179487         -0.388514   \n",
       "2                     0.912281                -0.038462          0.523649   \n",
       "3                    -0.140351                -0.128205         -0.320946   \n",
       "4                    -0.201754                -0.294872          0.016892   \n",
       "...                        ...                      ...               ...   \n",
       "3410                  0.605263                -0.192308          0.287162   \n",
       "3411                  0.771930                 1.628205          0.962838   \n",
       "3412                  0.000000                 0.205128         -0.067568   \n",
       "3413                  0.254386                -0.320513          0.743243   \n",
       "3414                  1.131579                 1.474359          0.810811   \n",
       "\n",
       "      luxury_assets_value  \n",
       "0               -0.779446  \n",
       "1               -0.103926  \n",
       "2                0.375289  \n",
       "3               -0.017321  \n",
       "4                1.299076  \n",
       "...                   ...  \n",
       "3410             0.011547  \n",
       "3411             0.467667  \n",
       "3412            -0.352194  \n",
       "3413             0.918014  \n",
       "3414             1.356813  \n",
       "\n",
       "[3415 rows x 8 columns]"
      ]
     },
     "execution_count": 54,
     "metadata": {},
     "output_type": "execute_result"
    }
   ],
   "source": [
    "train_feats_scaled"
   ]
  },
  {
   "cell_type": "code",
   "execution_count": 55,
   "metadata": {
    "id": "0pqSFYf2jScY"
   },
   "outputs": [
    {
     "name": "stderr",
     "output_type": "stream",
     "text": [
      "C:\\Users\\User\\anaconda3\\lib\\site-packages\\pandas\\core\\frame.py:4906: SettingWithCopyWarning: \n",
      "A value is trying to be set on a copy of a slice from a DataFrame\n",
      "\n",
      "See the caveats in the documentation: https://pandas.pydata.org/pandas-docs/stable/user_guide/indexing.html#returning-a-view-versus-a-copy\n",
      "  return super().drop(\n"
     ]
    }
   ],
   "source": [
    "x_train.drop(numerical_features, axis=1, inplace=True)\n",
    "x_test.drop(numerical_features, axis=1, inplace=True)"
   ]
  },
  {
   "cell_type": "code",
   "execution_count": 56,
   "metadata": {
    "colab": {
     "base_uri": "https://localhost:8080/",
     "height": 178
    },
    "id": "yCj1ZVY6kg4t",
    "outputId": "9003a587-e57f-4c78-e458-fa0296b943c8"
   },
   "outputs": [
    {
     "data": {
      "text/plain": [
       "no_of_dependents    0\n",
       "education           0\n",
       "self_employed       0\n",
       "dtype: int64"
      ]
     },
     "execution_count": 56,
     "metadata": {},
     "output_type": "execute_result"
    }
   ],
   "source": [
    "x_train.isnull().sum()"
   ]
  },
  {
   "cell_type": "code",
   "execution_count": 57,
   "metadata": {
    "id": "KDGQgQbgk0BM"
   },
   "outputs": [],
   "source": [
    "x_train.reset_index(drop=True, inplace=True)\n",
    "x_test.reset_index(drop=True, inplace=True)"
   ]
  },
  {
   "cell_type": "code",
   "execution_count": 58,
   "metadata": {
    "colab": {
     "base_uri": "https://localhost:8080/"
    },
    "id": "Pv4jFodck4dE",
    "outputId": "fa63c75b-e9bb-45e3-9ae9-b0e861909207"
   },
   "outputs": [
    {
     "data": {
      "text/plain": [
       "(3415, 8)"
      ]
     },
     "execution_count": 58,
     "metadata": {},
     "output_type": "execute_result"
    }
   ],
   "source": [
    "train_feats_scaled.shape"
   ]
  },
  {
   "cell_type": "code",
   "execution_count": 59,
   "metadata": {
    "id": "hxECGfMc-SYA"
   },
   "outputs": [],
   "source": [
    "x_train_new = pd.concat([x_train, train_feats_scaled], axis=1)\n",
    "x_test_new = pd.concat([x_test, test_feats_scaled], axis=1)"
   ]
  },
  {
   "cell_type": "code",
   "execution_count": 60,
   "metadata": {
    "colab": {
     "base_uri": "https://localhost:8080/",
     "height": 443
    },
    "id": "cNQ-EORvkXzC",
    "outputId": "ed2179f1-705e-4f6b-9d19-033d19cbbd4f"
   },
   "outputs": [
    {
     "data": {
      "text/html": [
       "<div>\n",
       "<style scoped>\n",
       "    .dataframe tbody tr th:only-of-type {\n",
       "        vertical-align: middle;\n",
       "    }\n",
       "\n",
       "    .dataframe tbody tr th {\n",
       "        vertical-align: top;\n",
       "    }\n",
       "\n",
       "    .dataframe thead th {\n",
       "        text-align: right;\n",
       "    }\n",
       "</style>\n",
       "<table border=\"1\" class=\"dataframe\">\n",
       "  <thead>\n",
       "    <tr style=\"text-align: right;\">\n",
       "      <th></th>\n",
       "      <th>no_of_dependents</th>\n",
       "      <th>education</th>\n",
       "      <th>self_employed</th>\n",
       "      <th>income_annum</th>\n",
       "      <th>loan_amount</th>\n",
       "      <th>loan_term</th>\n",
       "      <th>cibil_score</th>\n",
       "      <th>residential_assets_value</th>\n",
       "      <th>commercial_assets_value</th>\n",
       "      <th>bank_asset_value</th>\n",
       "      <th>luxury_assets_value</th>\n",
       "    </tr>\n",
       "  </thead>\n",
       "  <tbody>\n",
       "    <tr>\n",
       "      <th>0</th>\n",
       "      <td>5</td>\n",
       "      <td>1.0</td>\n",
       "      <td>1.0</td>\n",
       "      <td>-0.790378</td>\n",
       "      <td>-0.805134</td>\n",
       "      <td>0.666667</td>\n",
       "      <td>0.053672</td>\n",
       "      <td>-0.368421</td>\n",
       "      <td>-0.397436</td>\n",
       "      <td>-0.709459</td>\n",
       "      <td>-0.779446</td>\n",
       "    </tr>\n",
       "    <tr>\n",
       "      <th>1</th>\n",
       "      <td>5</td>\n",
       "      <td>1.0</td>\n",
       "      <td>1.0</td>\n",
       "      <td>-0.120275</td>\n",
       "      <td>0.151692</td>\n",
       "      <td>0.833333</td>\n",
       "      <td>0.680791</td>\n",
       "      <td>-0.175439</td>\n",
       "      <td>0.179487</td>\n",
       "      <td>-0.388514</td>\n",
       "      <td>-0.103926</td>\n",
       "    </tr>\n",
       "    <tr>\n",
       "      <th>2</th>\n",
       "      <td>4</td>\n",
       "      <td>1.0</td>\n",
       "      <td>1.0</td>\n",
       "      <td>0.068729</td>\n",
       "      <td>0.005834</td>\n",
       "      <td>0.000000</td>\n",
       "      <td>-0.692090</td>\n",
       "      <td>0.912281</td>\n",
       "      <td>-0.038462</td>\n",
       "      <td>0.523649</td>\n",
       "      <td>0.375289</td>\n",
       "    </tr>\n",
       "    <tr>\n",
       "      <th>3</th>\n",
       "      <td>0</td>\n",
       "      <td>1.0</td>\n",
       "      <td>0.0</td>\n",
       "      <td>-0.120275</td>\n",
       "      <td>0.000000</td>\n",
       "      <td>0.500000</td>\n",
       "      <td>0.110169</td>\n",
       "      <td>-0.140351</td>\n",
       "      <td>-0.128205</td>\n",
       "      <td>-0.320946</td>\n",
       "      <td>-0.017321</td>\n",
       "    </tr>\n",
       "    <tr>\n",
       "      <th>4</th>\n",
       "      <td>0</td>\n",
       "      <td>1.0</td>\n",
       "      <td>1.0</td>\n",
       "      <td>0.738832</td>\n",
       "      <td>0.309218</td>\n",
       "      <td>-0.500000</td>\n",
       "      <td>-0.703390</td>\n",
       "      <td>-0.201754</td>\n",
       "      <td>-0.294872</td>\n",
       "      <td>0.016892</td>\n",
       "      <td>1.299076</td>\n",
       "    </tr>\n",
       "    <tr>\n",
       "      <th>...</th>\n",
       "      <td>...</td>\n",
       "      <td>...</td>\n",
       "      <td>...</td>\n",
       "      <td>...</td>\n",
       "      <td>...</td>\n",
       "      <td>...</td>\n",
       "      <td>...</td>\n",
       "      <td>...</td>\n",
       "      <td>...</td>\n",
       "      <td>...</td>\n",
       "      <td>...</td>\n",
       "    </tr>\n",
       "    <tr>\n",
       "      <th>3410</th>\n",
       "      <td>4</td>\n",
       "      <td>1.0</td>\n",
       "      <td>1.0</td>\n",
       "      <td>0.309278</td>\n",
       "      <td>0.390898</td>\n",
       "      <td>0.000000</td>\n",
       "      <td>-0.062147</td>\n",
       "      <td>0.605263</td>\n",
       "      <td>-0.192308</td>\n",
       "      <td>0.287162</td>\n",
       "      <td>0.011547</td>\n",
       "    </tr>\n",
       "    <tr>\n",
       "      <th>3411</th>\n",
       "      <td>3</td>\n",
       "      <td>1.0</td>\n",
       "      <td>1.0</td>\n",
       "      <td>0.807560</td>\n",
       "      <td>1.207701</td>\n",
       "      <td>-0.333333</td>\n",
       "      <td>0.762712</td>\n",
       "      <td>0.771930</td>\n",
       "      <td>1.628205</td>\n",
       "      <td>0.962838</td>\n",
       "      <td>0.467667</td>\n",
       "    </tr>\n",
       "    <tr>\n",
       "      <th>3412</th>\n",
       "      <td>5</td>\n",
       "      <td>1.0</td>\n",
       "      <td>1.0</td>\n",
       "      <td>-0.360825</td>\n",
       "      <td>-0.344224</td>\n",
       "      <td>0.333333</td>\n",
       "      <td>-0.556497</td>\n",
       "      <td>0.000000</td>\n",
       "      <td>0.205128</td>\n",
       "      <td>-0.067568</td>\n",
       "      <td>-0.352194</td>\n",
       "    </tr>\n",
       "    <tr>\n",
       "      <th>3413</th>\n",
       "      <td>5</td>\n",
       "      <td>1.0</td>\n",
       "      <td>0.0</td>\n",
       "      <td>0.584192</td>\n",
       "      <td>0.624271</td>\n",
       "      <td>-0.500000</td>\n",
       "      <td>-0.742938</td>\n",
       "      <td>0.254386</td>\n",
       "      <td>-0.320513</td>\n",
       "      <td>0.743243</td>\n",
       "      <td>0.918014</td>\n",
       "    </tr>\n",
       "    <tr>\n",
       "      <th>3414</th>\n",
       "      <td>1</td>\n",
       "      <td>1.0</td>\n",
       "      <td>1.0</td>\n",
       "      <td>0.773196</td>\n",
       "      <td>0.886814</td>\n",
       "      <td>0.666667</td>\n",
       "      <td>-0.341808</td>\n",
       "      <td>1.131579</td>\n",
       "      <td>1.474359</td>\n",
       "      <td>0.810811</td>\n",
       "      <td>1.356813</td>\n",
       "    </tr>\n",
       "  </tbody>\n",
       "</table>\n",
       "<p>3415 rows × 11 columns</p>\n",
       "</div>"
      ],
      "text/plain": [
       "      no_of_dependents  education  self_employed  income_annum  loan_amount  \\\n",
       "0                    5        1.0            1.0     -0.790378    -0.805134   \n",
       "1                    5        1.0            1.0     -0.120275     0.151692   \n",
       "2                    4        1.0            1.0      0.068729     0.005834   \n",
       "3                    0        1.0            0.0     -0.120275     0.000000   \n",
       "4                    0        1.0            1.0      0.738832     0.309218   \n",
       "...                ...        ...            ...           ...          ...   \n",
       "3410                 4        1.0            1.0      0.309278     0.390898   \n",
       "3411                 3        1.0            1.0      0.807560     1.207701   \n",
       "3412                 5        1.0            1.0     -0.360825    -0.344224   \n",
       "3413                 5        1.0            0.0      0.584192     0.624271   \n",
       "3414                 1        1.0            1.0      0.773196     0.886814   \n",
       "\n",
       "      loan_term  cibil_score  residential_assets_value  \\\n",
       "0      0.666667     0.053672                 -0.368421   \n",
       "1      0.833333     0.680791                 -0.175439   \n",
       "2      0.000000    -0.692090                  0.912281   \n",
       "3      0.500000     0.110169                 -0.140351   \n",
       "4     -0.500000    -0.703390                 -0.201754   \n",
       "...         ...          ...                       ...   \n",
       "3410   0.000000    -0.062147                  0.605263   \n",
       "3411  -0.333333     0.762712                  0.771930   \n",
       "3412   0.333333    -0.556497                  0.000000   \n",
       "3413  -0.500000    -0.742938                  0.254386   \n",
       "3414   0.666667    -0.341808                  1.131579   \n",
       "\n",
       "      commercial_assets_value  bank_asset_value  luxury_assets_value  \n",
       "0                   -0.397436         -0.709459            -0.779446  \n",
       "1                    0.179487         -0.388514            -0.103926  \n",
       "2                   -0.038462          0.523649             0.375289  \n",
       "3                   -0.128205         -0.320946            -0.017321  \n",
       "4                   -0.294872          0.016892             1.299076  \n",
       "...                       ...               ...                  ...  \n",
       "3410                -0.192308          0.287162             0.011547  \n",
       "3411                 1.628205          0.962838             0.467667  \n",
       "3412                 0.205128         -0.067568            -0.352194  \n",
       "3413                -0.320513          0.743243             0.918014  \n",
       "3414                 1.474359          0.810811             1.356813  \n",
       "\n",
       "[3415 rows x 11 columns]"
      ]
     },
     "execution_count": 60,
     "metadata": {},
     "output_type": "execute_result"
    }
   ],
   "source": [
    "x_train_new"
   ]
  },
  {
   "cell_type": "code",
   "execution_count": 61,
   "metadata": {
    "colab": {
     "base_uri": "https://localhost:8080/",
     "height": 443
    },
    "id": "nbac3zBKlour",
    "outputId": "77e32db3-c9fc-4d54-b050-d824d089f447"
   },
   "outputs": [
    {
     "data": {
      "text/html": [
       "<div>\n",
       "<style scoped>\n",
       "    .dataframe tbody tr th:only-of-type {\n",
       "        vertical-align: middle;\n",
       "    }\n",
       "\n",
       "    .dataframe tbody tr th {\n",
       "        vertical-align: top;\n",
       "    }\n",
       "\n",
       "    .dataframe thead th {\n",
       "        text-align: right;\n",
       "    }\n",
       "</style>\n",
       "<table border=\"1\" class=\"dataframe\">\n",
       "  <thead>\n",
       "    <tr style=\"text-align: right;\">\n",
       "      <th></th>\n",
       "      <th>no_of_dependents</th>\n",
       "      <th>education</th>\n",
       "      <th>self_employed</th>\n",
       "      <th>income_annum</th>\n",
       "      <th>loan_amount</th>\n",
       "      <th>loan_term</th>\n",
       "      <th>cibil_score</th>\n",
       "      <th>residential_assets_value</th>\n",
       "      <th>commercial_assets_value</th>\n",
       "      <th>bank_asset_value</th>\n",
       "      <th>luxury_assets_value</th>\n",
       "    </tr>\n",
       "  </thead>\n",
       "  <tbody>\n",
       "    <tr>\n",
       "      <th>0</th>\n",
       "      <td>2</td>\n",
       "      <td>1.0</td>\n",
       "      <td>1.0</td>\n",
       "      <td>0.103093</td>\n",
       "      <td>0.017503</td>\n",
       "      <td>0.833333</td>\n",
       "      <td>-0.612994</td>\n",
       "      <td>0.666667</td>\n",
       "      <td>0.256410</td>\n",
       "      <td>0.236486</td>\n",
       "      <td>-0.167436</td>\n",
       "    </tr>\n",
       "    <tr>\n",
       "      <th>1</th>\n",
       "      <td>1</td>\n",
       "      <td>0.0</td>\n",
       "      <td>1.0</td>\n",
       "      <td>0.034364</td>\n",
       "      <td>0.245041</td>\n",
       "      <td>0.500000</td>\n",
       "      <td>-0.672316</td>\n",
       "      <td>-0.464912</td>\n",
       "      <td>0.166667</td>\n",
       "      <td>0.152027</td>\n",
       "      <td>-0.161663</td>\n",
       "    </tr>\n",
       "    <tr>\n",
       "      <th>2</th>\n",
       "      <td>5</td>\n",
       "      <td>0.0</td>\n",
       "      <td>1.0</td>\n",
       "      <td>0.738832</td>\n",
       "      <td>0.694282</td>\n",
       "      <td>0.833333</td>\n",
       "      <td>0.485876</td>\n",
       "      <td>0.403509</td>\n",
       "      <td>1.141026</td>\n",
       "      <td>1.199324</td>\n",
       "      <td>1.281755</td>\n",
       "    </tr>\n",
       "    <tr>\n",
       "      <th>3</th>\n",
       "      <td>4</td>\n",
       "      <td>0.0</td>\n",
       "      <td>0.0</td>\n",
       "      <td>-0.274914</td>\n",
       "      <td>-0.303384</td>\n",
       "      <td>-0.666667</td>\n",
       "      <td>0.158192</td>\n",
       "      <td>0.377193</td>\n",
       "      <td>0.371795</td>\n",
       "      <td>-0.253378</td>\n",
       "      <td>-0.306005</td>\n",
       "    </tr>\n",
       "    <tr>\n",
       "      <th>4</th>\n",
       "      <td>3</td>\n",
       "      <td>0.0</td>\n",
       "      <td>1.0</td>\n",
       "      <td>0.756014</td>\n",
       "      <td>0.554259</td>\n",
       "      <td>-0.166667</td>\n",
       "      <td>0.790960</td>\n",
       "      <td>-0.219298</td>\n",
       "      <td>1.730769</td>\n",
       "      <td>1.368243</td>\n",
       "      <td>0.675520</td>\n",
       "    </tr>\n",
       "    <tr>\n",
       "      <th>...</th>\n",
       "      <td>...</td>\n",
       "      <td>...</td>\n",
       "      <td>...</td>\n",
       "      <td>...</td>\n",
       "      <td>...</td>\n",
       "      <td>...</td>\n",
       "      <td>...</td>\n",
       "      <td>...</td>\n",
       "      <td>...</td>\n",
       "      <td>...</td>\n",
       "      <td>...</td>\n",
       "    </tr>\n",
       "    <tr>\n",
       "      <th>849</th>\n",
       "      <td>0</td>\n",
       "      <td>0.0</td>\n",
       "      <td>1.0</td>\n",
       "      <td>-0.429553</td>\n",
       "      <td>-0.379230</td>\n",
       "      <td>-0.166667</td>\n",
       "      <td>0.087571</td>\n",
       "      <td>0.035088</td>\n",
       "      <td>0.153846</td>\n",
       "      <td>-0.439189</td>\n",
       "      <td>-0.415704</td>\n",
       "    </tr>\n",
       "    <tr>\n",
       "      <th>850</th>\n",
       "      <td>5</td>\n",
       "      <td>0.0</td>\n",
       "      <td>1.0</td>\n",
       "      <td>-0.171821</td>\n",
       "      <td>-0.134189</td>\n",
       "      <td>-0.166667</td>\n",
       "      <td>-0.819209</td>\n",
       "      <td>0.228070</td>\n",
       "      <td>-0.346154</td>\n",
       "      <td>-0.219595</td>\n",
       "      <td>-0.098152</td>\n",
       "    </tr>\n",
       "    <tr>\n",
       "      <th>851</th>\n",
       "      <td>1</td>\n",
       "      <td>1.0</td>\n",
       "      <td>1.0</td>\n",
       "      <td>-0.274914</td>\n",
       "      <td>-0.227538</td>\n",
       "      <td>0.333333</td>\n",
       "      <td>0.093220</td>\n",
       "      <td>0.114035</td>\n",
       "      <td>-0.282051</td>\n",
       "      <td>-0.067568</td>\n",
       "      <td>-0.219400</td>\n",
       "    </tr>\n",
       "    <tr>\n",
       "      <th>852</th>\n",
       "      <td>3</td>\n",
       "      <td>1.0</td>\n",
       "      <td>1.0</td>\n",
       "      <td>-0.360825</td>\n",
       "      <td>-0.420070</td>\n",
       "      <td>-0.333333</td>\n",
       "      <td>0.796610</td>\n",
       "      <td>-0.368421</td>\n",
       "      <td>0.102564</td>\n",
       "      <td>-0.388514</td>\n",
       "      <td>-0.496536</td>\n",
       "    </tr>\n",
       "    <tr>\n",
       "      <th>853</th>\n",
       "      <td>5</td>\n",
       "      <td>1.0</td>\n",
       "      <td>1.0</td>\n",
       "      <td>0.532646</td>\n",
       "      <td>0.828471</td>\n",
       "      <td>-0.500000</td>\n",
       "      <td>-0.322034</td>\n",
       "      <td>0.956140</td>\n",
       "      <td>-0.089744</td>\n",
       "      <td>0.371622</td>\n",
       "      <td>0.271363</td>\n",
       "    </tr>\n",
       "  </tbody>\n",
       "</table>\n",
       "<p>854 rows × 11 columns</p>\n",
       "</div>"
      ],
      "text/plain": [
       "     no_of_dependents  education  self_employed  income_annum  loan_amount  \\\n",
       "0                   2        1.0            1.0      0.103093     0.017503   \n",
       "1                   1        0.0            1.0      0.034364     0.245041   \n",
       "2                   5        0.0            1.0      0.738832     0.694282   \n",
       "3                   4        0.0            0.0     -0.274914    -0.303384   \n",
       "4                   3        0.0            1.0      0.756014     0.554259   \n",
       "..                ...        ...            ...           ...          ...   \n",
       "849                 0        0.0            1.0     -0.429553    -0.379230   \n",
       "850                 5        0.0            1.0     -0.171821    -0.134189   \n",
       "851                 1        1.0            1.0     -0.274914    -0.227538   \n",
       "852                 3        1.0            1.0     -0.360825    -0.420070   \n",
       "853                 5        1.0            1.0      0.532646     0.828471   \n",
       "\n",
       "     loan_term  cibil_score  residential_assets_value  \\\n",
       "0     0.833333    -0.612994                  0.666667   \n",
       "1     0.500000    -0.672316                 -0.464912   \n",
       "2     0.833333     0.485876                  0.403509   \n",
       "3    -0.666667     0.158192                  0.377193   \n",
       "4    -0.166667     0.790960                 -0.219298   \n",
       "..         ...          ...                       ...   \n",
       "849  -0.166667     0.087571                  0.035088   \n",
       "850  -0.166667    -0.819209                  0.228070   \n",
       "851   0.333333     0.093220                  0.114035   \n",
       "852  -0.333333     0.796610                 -0.368421   \n",
       "853  -0.500000    -0.322034                  0.956140   \n",
       "\n",
       "     commercial_assets_value  bank_asset_value  luxury_assets_value  \n",
       "0                   0.256410          0.236486            -0.167436  \n",
       "1                   0.166667          0.152027            -0.161663  \n",
       "2                   1.141026          1.199324             1.281755  \n",
       "3                   0.371795         -0.253378            -0.306005  \n",
       "4                   1.730769          1.368243             0.675520  \n",
       "..                       ...               ...                  ...  \n",
       "849                 0.153846         -0.439189            -0.415704  \n",
       "850                -0.346154         -0.219595            -0.098152  \n",
       "851                -0.282051         -0.067568            -0.219400  \n",
       "852                 0.102564         -0.388514            -0.496536  \n",
       "853                -0.089744          0.371622             0.271363  \n",
       "\n",
       "[854 rows x 11 columns]"
      ]
     },
     "execution_count": 61,
     "metadata": {},
     "output_type": "execute_result"
    }
   ],
   "source": [
    "x_test_new"
   ]
  },
  {
   "cell_type": "code",
   "execution_count": 62,
   "metadata": {
    "id": "lW3L03nHY9ok"
   },
   "outputs": [],
   "source": [
    "from sklearn.model_selection import cross_validate"
   ]
  },
  {
   "cell_type": "code",
   "execution_count": 63,
   "metadata": {
    "id": "32jqniu8Y9ol"
   },
   "outputs": [],
   "source": [
    "from sklearn.ensemble import RandomForestClassifier,GradientBoostingClassifier\n",
    "from sklearn.tree import DecisionTreeClassifier\n",
    "from sklearn.neighbors import KNeighborsClassifier\n",
    "from xgboost import XGBClassifier\n",
    "from sklearn.metrics import classification_report"
   ]
  },
  {
   "cell_type": "code",
   "execution_count": 64,
   "metadata": {
    "id": "sc_VR_bQY9om"
   },
   "outputs": [],
   "source": [
    "models = list()\n",
    "models.append((\"CART\" , DecisionTreeClassifier()))\n",
    "models.append((\"RF\" , RandomForestClassifier()))\n",
    "models.append((\"xg\" , XGBClassifier()))\n",
    "models.append((\"GB\" , GradientBoostingClassifier()))"
   ]
  },
  {
   "cell_type": "code",
   "execution_count": 65,
   "metadata": {
    "id": "iDgV1iQbA_YG"
   },
   "outputs": [],
   "source": [
    "from sklearn.metrics import roc_auc_score"
   ]
  },
  {
   "cell_type": "code",
   "execution_count": 66,
   "metadata": {
    "id": "8TNre9s_Bje9"
   },
   "outputs": [],
   "source": [
    "from sklearn.metrics import f1_score"
   ]
  },
  {
   "cell_type": "code",
   "execution_count": 67,
   "metadata": {
    "colab": {
     "base_uri": "https://localhost:8080/"
    },
    "id": "KX9Brop2Y9oq",
    "outputId": "00b3926e-2418-4d56-fca3-6247da1579e0"
   },
   "outputs": [
    {
     "name": "stdout",
     "output_type": "stream",
     "text": [
      "CART\n",
      "              precision    recall  f1-score   support\n",
      "\n",
      "         0.0       0.99      0.98      0.98       323\n",
      "         1.0       0.99      0.99      0.99       531\n",
      "\n",
      "    accuracy                           0.99       854\n",
      "   macro avg       0.99      0.99      0.99       854\n",
      "weighted avg       0.99      0.99      0.99       854\n",
      "\n",
      "OOOOOOOOOOOOOOOOOOOOOOOOOOOOOOOOOOOOOOOOOOOOOOOOOO\n",
      "roc_auc_score  0.9853976083445569\n",
      "f1_score  0.9896713615023475\n",
      "--------------------------------------------------\n",
      "RF\n",
      "              precision    recall  f1-score   support\n",
      "\n",
      "         0.0       0.98      0.98      0.98       323\n",
      "         1.0       0.99      0.98      0.99       531\n",
      "\n",
      "    accuracy                           0.98       854\n",
      "   macro avg       0.98      0.98      0.98       854\n",
      "weighted avg       0.98      0.98      0.98       854\n",
      "\n",
      "OOOOOOOOOOOOOOOOOOOOOOOOOOOOOOOOOOOOOOOOOOOOOOOOOO\n",
      "roc_auc_score  0.9831791176179064\n",
      "f1_score  0.9867924528301886\n",
      "--------------------------------------------------\n",
      "xg\n",
      "              precision    recall  f1-score   support\n",
      "\n",
      "         0.0       0.99      0.99      0.99       323\n",
      "         1.0       0.99      0.99      0.99       531\n",
      "\n",
      "    accuracy                           0.99       854\n",
      "   macro avg       0.99      0.99      0.99       854\n",
      "weighted avg       0.99      0.99      0.99       854\n",
      "\n",
      "OOOOOOOOOOOOOOOOOOOOOOOOOOOOOOOOOOOOOOOOOOOOOOOOOO\n",
      "roc_auc_score  0.9909831907785416\n",
      "f1_score  0.993414863593603\n",
      "--------------------------------------------------\n",
      "GB\n",
      "              precision    recall  f1-score   support\n",
      "\n",
      "         0.0       0.98      0.98      0.98       323\n",
      "         1.0       0.99      0.99      0.99       531\n",
      "\n",
      "    accuracy                           0.99       854\n",
      "   macro avg       0.99      0.99      0.99       854\n",
      "weighted avg       0.99      0.99      0.99       854\n",
      "\n",
      "OOOOOOOOOOOOOOOOOOOOOOOOOOOOOOOOOOOOOOOOOOOOOOOOOO\n",
      "roc_auc_score  0.9866103444053804\n",
      "f1_score  0.9896324222431667\n",
      "--------------------------------------------------\n"
     ]
    }
   ],
   "source": [
    "for model in models:\n",
    "  print(model[0])\n",
    "  model[1].fit(x_train_new, y_train)\n",
    "  y_pred = model[1].predict(x_test_new)\n",
    "  print(classification_report(y_test, y_pred))\n",
    "  print(\"O\" * 50)\n",
    "  print('roc_auc_score ',roc_auc_score(y_test, y_pred))\n",
    "  print('f1_score ',f1_score(y_test, y_pred))\n",
    "  print(\"-\" * 50)"
   ]
  },
  {
   "cell_type": "markdown",
   "metadata": {
    "id": "-ycSAscqY9oq"
   },
   "source": [
    "# hyperparameters tuning XGBoost"
   ]
  },
  {
   "cell_type": "code",
   "execution_count": 68,
   "metadata": {
    "id": "oTsS24dNW3yb"
   },
   "outputs": [],
   "source": [
    "from sklearn.metrics import confusion_matrix"
   ]
  },
  {
   "cell_type": "code",
   "execution_count": 69,
   "metadata": {
    "id": "3ZRALuZ9GXIP"
   },
   "outputs": [],
   "source": [
    "# import GridSearchCV\n",
    "from sklearn.model_selection import GridSearchCV"
   ]
  },
  {
   "cell_type": "code",
   "execution_count": 70,
   "metadata": {
    "id": "JaXLid1SY9or"
   },
   "outputs": [],
   "source": [
    "param_grid = {\n",
    "    'max_depth': [3, 5, 7],\n",
    "    'learning_rate': [0.1, 0.01, 0.001],\n",
    "    'n_estimators': [ 30,40,50,60],\n",
    "    'min_child_weight': [0.5, 1, 5, 9],\n",
    "    'gamma': [0.0, 0.5, 1, 2],\n",
    "    'subsample': [0.8, 1.0],\n",
    "    'colsample_bytree': [0.8, 1.0],\n",
    "}\n"
   ]
  },
  {
   "cell_type": "code",
   "execution_count": 71,
   "metadata": {
    "id": "jVIs-VXcAHx6"
   },
   "outputs": [],
   "source": [
    "model = XGBClassifier(max_depth=7 , n_estimators=40,learning_rate=0.1,min_child_weight=.4 )"
   ]
  },
  {
   "cell_type": "code",
   "execution_count": 72,
   "metadata": {
    "colab": {
     "base_uri": "https://localhost:8080/"
    },
    "id": "mwwVQGpHOteD",
    "outputId": "5259d942-f422-448f-e4de-46fac79f87c0"
   },
   "outputs": [
    {
     "name": "stdout",
     "output_type": "stream",
     "text": [
      "              precision    recall  f1-score   support\n",
      "\n",
      "         0.0       0.99      0.99      0.99       323\n",
      "         1.0       0.99      0.99      0.99       531\n",
      "\n",
      "    accuracy                           0.99       854\n",
      "   macro avg       0.99      0.99      0.99       854\n",
      "weighted avg       0.99      0.99      0.99       854\n",
      "\n",
      "OOOOOOOOOOOOOOOOOOOOOOOOOOOOOOOOOOOOOOOOOOOOOOOOOO\n",
      "roc_auc_score  0.9909831907785416\n",
      "f1_score  0.993414863593603\n"
     ]
    }
   ],
   "source": [
    "model.fit(x_train_new, y_train)\n",
    "y_pred = model.predict(x_test_new)\n",
    "print(classification_report(y_test, y_pred))\n",
    "print(\"O\" * 50)\n",
    "print('roc_auc_score ',roc_auc_score(y_test, y_pred))\n",
    "print('f1_score ',f1_score(y_test, y_pred))\n"
   ]
  },
  {
   "cell_type": "markdown",
   "metadata": {
    "id": "5o9xGy4cXbCr"
   },
   "source": [
    "# Model Performance"
   ]
  },
  {
   "cell_type": "markdown",
   "metadata": {
    "id": "c5rZHa_rXkMW"
   },
   "source": [
    "The **confusion matrix** provides a breakdown of the model's performance:\n",
    "\n",
    "* True Negatives (TN): **Correctly predicted rejections.**\n",
    "* False Negatives (FN): Incorrectly predicted rejections (actually approved).\n",
    "* False Positives (FP): Incorrectly predicted approvals (actually rejected).\n",
    "* True Positives (TP): **Correctly predicted approvals.**"
   ]
  },
  {
   "cell_type": "code",
   "execution_count": 73,
   "metadata": {
    "colab": {
     "base_uri": "https://localhost:8080/",
     "height": 727
    },
    "id": "7Zn8_JgGX6pS",
    "outputId": "c7793a10-82f1-415f-82a0-403c434f4748"
   },
   "outputs": [
    {
     "data": {
      "image/png": "[encoded data removed]",
      "text/plain": [
       "<Figure size 432x576 with 2 Axes>"
      ]
     },
     "metadata": {},
     "output_type": "display_data"
    }
   ],
   "source": [
    "# Calculate the confusion matrix\n",
    "cm = confusion_matrix(y_test, y_pred)\n",
    "\n",
    "# Create a heatmap\n",
    "sns.heatmap(cm, annot=True, fmt='d', cmap='Blues')\n",
    "plt.xlabel('Predicted')\n",
    "plt.ylabel('Actual')\n",
    "plt.title('Confusion Matrix')\n",
    "plt.show()"
   ]
  },
  {
   "cell_type": "code",
   "execution_count": 76,
   "metadata": {
    "id": "pk8Ey0-8Y9or"
   },
   "outputs": [],
   "source": [
    "from sklearn.model_selection import GridSearchCV\n",
    "\n",
    "grid_search = GridSearchCV(estimator=model,\n",
    "                           param_grid=param_grid,\n",
    "                           scoring='f1',  # Use 'f1' instead of 'f1_score'\n",
    "                           cv=1,\n",
    "                           return_train_score=True,\n",
    "                           n_jobs=-1)"
   ]
  },
  {
   "cell_type": "code",
   "execution_count": 81,
   "metadata": {
    "colab": {
     "base_uri": "https://localhost:8080/",
     "height": 208
    },
    "id": "y8LkcNwYY9or",
    "outputId": "75b65b41-c282-47f2-c2a6-ad93c7649652"
   },
   "outputs": [
    {
     "name": "stdout",
     "output_type": "stream",
     "text": [
      "              precision    recall  f1-score   support\n",
      "\n",
      "         0.0       0.99      0.99      0.99       323\n",
      "         1.0       0.99      0.99      0.99       531\n",
      "\n",
      "    accuracy                           0.99       854\n",
      "   macro avg       0.99      0.99      0.99       854\n",
      "weighted avg       0.99      0.99      0.99       854\n",
      "\n",
      "OOOOOOOOOOOOOOOOOOOOOOOOOOOOOOOOOOOOOOOOOOOOOOOOOO\n",
      "roc_auc_score  0.9909831907785416\n",
      "f1_score  0.993414863593603\n"
     ]
    },
    {
     "data": {
      "image/png": "[encoded data removed]",
      "text/plain": [
       "<Figure size 432x576 with 2 Axes>"
      ]
     },
     "metadata": {},
     "output_type": "display_data"
    }
   ],
   "source": [
    "from sklearn.model_selection import GridSearchCV\n",
    "from xgboost import XGBClassifier  # Ensure XGBClassifier is imported\n",
    "from sklearn.metrics import classification_report, roc_auc_score, f1_score\n",
    "\n",
    "param_grid = {\n",
    "    'max_depth': [3, 5, 7],\n",
    "    'learning_rate': [0.1, 0.01, 0.001],\n",
    "    'n_estimators': [30, 40, 50, 60],\n",
    "    'min_child_weight': [0.5, 1, 5, 9],\n",
    "    'gamma': [0.0, 0.5, 1, 2],\n",
    "    'subsample': [0.8, 1.0],\n",
    "    'colsample_bytree': [0.8, 1.0],\n",
    "}\n",
    "\n",
    "model = XGBClassifier(max_depth=7, n_estimators=40, learning_rate=0.1, min_child_weight=0.4)\n",
    "model.fit(x_train_new, y_train)\n",
    "y_pred = model.predict(x_test_new)\n",
    "print(classification_report(y_test, y_pred))\n",
    "print(\"O\" * 50)\n",
    "print('roc_auc_score ', roc_auc_score(y_test, y_pred))\n",
    "print('f1_score ', f1_score(y_test, y_pred))\n",
    "\n",
    "# Calculate the confusion matrix\n",
    "cm = confusion_matrix(y_test, y_pred)\n",
    "\n",
    "# Create a heatmap\n",
    "sns.heatmap(cm, annot=True, fmt='d', cmap='Blues')\n",
    "plt.xlabel('Predicted')\n",
    "plt.ylabel('Actual')\n",
    "plt.title('Confusion Matrix')\n",
    "plt.show()\n",
    "\n"
   ]
  },
  {
   "cell_type": "code",
   "execution_count": 82,
   "metadata": {},
   "outputs": [
    {
     "data": {
      "text/plain": [
       "GridSearchCV(cv=5,\n",
       "             estimator=XGBClassifier(base_score=None, booster=None,\n",
       "                                     callbacks=None, colsample_bylevel=None,\n",
       "                                     colsample_bynode=None,\n",
       "                                     colsample_bytree=None,\n",
       "                                     early_stopping_rounds=None,\n",
       "                                     enable_categorical=False, eval_metric=None,\n",
       "                                     feature_types=None, gamma=None,\n",
       "                                     gpu_id=None, grow_policy=None,\n",
       "                                     importance_type=None,\n",
       "                                     interaction_constraints=None,\n",
       "                                     learning_rate=0.1, m...\n",
       "                                     missing=nan, monotone_constraints=None,\n",
       "                                     n_estimators=40, n_jobs=None,\n",
       "                                     num_parallel_tree=None, predictor=None,\n",
       "                                     random_state=None, ...),\n",
       "             n_jobs=-1,\n",
       "             param_grid={'colsample_bytree': [0.8, 1.0],\n",
       "                         'gamma': [0.0, 0.5, 1, 2],\n",
       "                         'learning_rate': [0.1, 0.01, 0.001],\n",
       "                         'max_depth': [3, 5, 7],\n",
       "                         'min_child_weight': [0.5, 1, 5, 9],\n",
       "                         'n_estimators': [30, 40, 50, 60],\n",
       "                         'subsample': [0.8, 1.0]},\n",
       "             return_train_score=True, scoring='f1')"
      ]
     },
     "execution_count": 82,
     "metadata": {},
     "output_type": "execute_result"
    }
   ],
   "source": [
    "# Perform GridSearchCV with proper cv value\n",
    "grid_search = GridSearchCV(estimator=model,\n",
    "                           param_grid=param_grid,\n",
    "                           scoring='f1',  # Use 'f1' instead of 'f1_score'\n",
    "                           cv=5,  # Use a value greater than 1 for cross-validation\n",
    "                           return_train_score=True,\n",
    "                           n_jobs=-1)\n",
    "\n",
    "grid_search.fit(x_train_new, y_train)  # Ensure you use x_train_new and y_train for fitting\n"
   ]
  },
  {
   "cell_type": "code",
   "execution_count": 79,
   "metadata": {
    "colab": {
     "base_uri": "https://localhost:8080/",
     "height": 429
    },
    "id": "u1iwQMN0V_8w",
    "outputId": "eb8ba2f3-c652-4d7b-ea08-4471a6c476b0"
   },
   "outputs": [
    {
     "data": {
      "text/plain": [
       "cibil_score                 0.696919\n",
       "loan_term                   0.226658\n",
       "loan_amount                 0.019325\n",
       "income_annum                0.017556\n",
       "luxury_assets_value         0.008183\n",
       "residential_assets_value    0.007858\n",
       "bank_asset_value            0.007226\n",
       "commercial_assets_value     0.006055\n",
       "no_of_dependents            0.005193\n",
       "self_employed               0.003012\n",
       "education                   0.002014\n",
       "dtype: float32"
      ]
     },
     "execution_count": 79,
     "metadata": {},
     "output_type": "execute_result"
    }
   ],
   "source": [
    "\n",
    "forest_importances = pd.Series(model.feature_importances_, index=x_train_new.columns)\n",
    "forest_importances.sort_values(ascending=False)"
   ]
  },
  {
   "cell_type": "markdown",
   "metadata": {
    "id": "fi-DE06ioxTI"
   },
   "source": [
    "This shows that cibil_score is the highest feature impacting our model prediction"
   ]
  }
 ],
 "metadata": {
  "colab": {
   "provenance": [],
   "toc_visible": true
  },
  "kernelspec": {
   "display_name": "Python 3 (ipykernel)",
   "language": "python",
   "name": "python3"
  },
  "language_info": {
   "codemirror_mode": {
    "name": "ipython",
    "version": 3
   },
   "file_extension": ".py",
   "mimetype": "text/x-python",
   "name": "python",
   "nbconvert_exporter": "python",
   "pygments_lexer": "ipython3",
   "version": "3.9.7"
  }
 },
 "nbformat": 4,
 "nbformat_minor": 4
}
